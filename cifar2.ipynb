{
  "nbformat": 4,
  "nbformat_minor": 0,
  "metadata": {
    "colab": {
      "name": "Untitled1.ipynb",
      "provenance": [],
      "authorship_tag": "ABX9TyP8yYxv4kPZ+ct6p5mXwWA9",
      "include_colab_link": true
    },
    "kernelspec": {
      "name": "python3",
      "display_name": "Python 3"
    },
    "language_info": {
      "name": "python"
    },
    "accelerator": "GPU",
    "widgets": {
      "application/vnd.jupyter.widget-state+json": {
        "01eba2d504604fd6a3ac7b82b5aa2c94": {
          "model_module": "@jupyter-widgets/controls",
          "model_name": "HBoxModel",
          "model_module_version": "1.5.0",
          "state": {
            "_dom_classes": [],
            "_model_module": "@jupyter-widgets/controls",
            "_model_module_version": "1.5.0",
            "_model_name": "HBoxModel",
            "_view_count": null,
            "_view_module": "@jupyter-widgets/controls",
            "_view_module_version": "1.5.0",
            "_view_name": "HBoxView",
            "box_style": "",
            "children": [
              "IPY_MODEL_ce9abed754194c9d8af9820ba0096320",
              "IPY_MODEL_c96fce9041254a4791a537f293a0c4f1",
              "IPY_MODEL_c785661d3799436a8997531247a41bef"
            ],
            "layout": "IPY_MODEL_16d06ad4663245cb970169c722faee25"
          }
        },
        "ce9abed754194c9d8af9820ba0096320": {
          "model_module": "@jupyter-widgets/controls",
          "model_name": "HTMLModel",
          "model_module_version": "1.5.0",
          "state": {
            "_dom_classes": [],
            "_model_module": "@jupyter-widgets/controls",
            "_model_module_version": "1.5.0",
            "_model_name": "HTMLModel",
            "_view_count": null,
            "_view_module": "@jupyter-widgets/controls",
            "_view_module_version": "1.5.0",
            "_view_name": "HTMLView",
            "description": "",
            "description_tooltip": null,
            "layout": "IPY_MODEL_62d558944e09419b941e83d85d3c6961",
            "placeholder": "​",
            "style": "IPY_MODEL_5f1ceed0c2184498b5422339a2ada2bc",
            "value": ""
          }
        },
        "c96fce9041254a4791a537f293a0c4f1": {
          "model_module": "@jupyter-widgets/controls",
          "model_name": "FloatProgressModel",
          "model_module_version": "1.5.0",
          "state": {
            "_dom_classes": [],
            "_model_module": "@jupyter-widgets/controls",
            "_model_module_version": "1.5.0",
            "_model_name": "FloatProgressModel",
            "_view_count": null,
            "_view_module": "@jupyter-widgets/controls",
            "_view_module_version": "1.5.0",
            "_view_name": "ProgressView",
            "bar_style": "success",
            "description": "",
            "description_tooltip": null,
            "layout": "IPY_MODEL_f3d513644efd46f0b7985f7d3751bdfc",
            "max": 170498071,
            "min": 0,
            "orientation": "horizontal",
            "style": "IPY_MODEL_d04a28b787b34900b405ecf50b43189e",
            "value": 170498071
          }
        },
        "c785661d3799436a8997531247a41bef": {
          "model_module": "@jupyter-widgets/controls",
          "model_name": "HTMLModel",
          "model_module_version": "1.5.0",
          "state": {
            "_dom_classes": [],
            "_model_module": "@jupyter-widgets/controls",
            "_model_module_version": "1.5.0",
            "_model_name": "HTMLModel",
            "_view_count": null,
            "_view_module": "@jupyter-widgets/controls",
            "_view_module_version": "1.5.0",
            "_view_name": "HTMLView",
            "description": "",
            "description_tooltip": null,
            "layout": "IPY_MODEL_1377963fd3ff405ebcc3ed873878e084",
            "placeholder": "​",
            "style": "IPY_MODEL_a06b361c01d245d883626890353b6abf",
            "value": " 170499072/? [00:03&lt;00:00, 51704293.29it/s]"
          }
        },
        "16d06ad4663245cb970169c722faee25": {
          "model_module": "@jupyter-widgets/base",
          "model_name": "LayoutModel",
          "model_module_version": "1.2.0",
          "state": {
            "_model_module": "@jupyter-widgets/base",
            "_model_module_version": "1.2.0",
            "_model_name": "LayoutModel",
            "_view_count": null,
            "_view_module": "@jupyter-widgets/base",
            "_view_module_version": "1.2.0",
            "_view_name": "LayoutView",
            "align_content": null,
            "align_items": null,
            "align_self": null,
            "border": null,
            "bottom": null,
            "display": null,
            "flex": null,
            "flex_flow": null,
            "grid_area": null,
            "grid_auto_columns": null,
            "grid_auto_flow": null,
            "grid_auto_rows": null,
            "grid_column": null,
            "grid_gap": null,
            "grid_row": null,
            "grid_template_areas": null,
            "grid_template_columns": null,
            "grid_template_rows": null,
            "height": null,
            "justify_content": null,
            "justify_items": null,
            "left": null,
            "margin": null,
            "max_height": null,
            "max_width": null,
            "min_height": null,
            "min_width": null,
            "object_fit": null,
            "object_position": null,
            "order": null,
            "overflow": null,
            "overflow_x": null,
            "overflow_y": null,
            "padding": null,
            "right": null,
            "top": null,
            "visibility": null,
            "width": null
          }
        },
        "62d558944e09419b941e83d85d3c6961": {
          "model_module": "@jupyter-widgets/base",
          "model_name": "LayoutModel",
          "model_module_version": "1.2.0",
          "state": {
            "_model_module": "@jupyter-widgets/base",
            "_model_module_version": "1.2.0",
            "_model_name": "LayoutModel",
            "_view_count": null,
            "_view_module": "@jupyter-widgets/base",
            "_view_module_version": "1.2.0",
            "_view_name": "LayoutView",
            "align_content": null,
            "align_items": null,
            "align_self": null,
            "border": null,
            "bottom": null,
            "display": null,
            "flex": null,
            "flex_flow": null,
            "grid_area": null,
            "grid_auto_columns": null,
            "grid_auto_flow": null,
            "grid_auto_rows": null,
            "grid_column": null,
            "grid_gap": null,
            "grid_row": null,
            "grid_template_areas": null,
            "grid_template_columns": null,
            "grid_template_rows": null,
            "height": null,
            "justify_content": null,
            "justify_items": null,
            "left": null,
            "margin": null,
            "max_height": null,
            "max_width": null,
            "min_height": null,
            "min_width": null,
            "object_fit": null,
            "object_position": null,
            "order": null,
            "overflow": null,
            "overflow_x": null,
            "overflow_y": null,
            "padding": null,
            "right": null,
            "top": null,
            "visibility": null,
            "width": null
          }
        },
        "5f1ceed0c2184498b5422339a2ada2bc": {
          "model_module": "@jupyter-widgets/controls",
          "model_name": "DescriptionStyleModel",
          "model_module_version": "1.5.0",
          "state": {
            "_model_module": "@jupyter-widgets/controls",
            "_model_module_version": "1.5.0",
            "_model_name": "DescriptionStyleModel",
            "_view_count": null,
            "_view_module": "@jupyter-widgets/base",
            "_view_module_version": "1.2.0",
            "_view_name": "StyleView",
            "description_width": ""
          }
        },
        "f3d513644efd46f0b7985f7d3751bdfc": {
          "model_module": "@jupyter-widgets/base",
          "model_name": "LayoutModel",
          "model_module_version": "1.2.0",
          "state": {
            "_model_module": "@jupyter-widgets/base",
            "_model_module_version": "1.2.0",
            "_model_name": "LayoutModel",
            "_view_count": null,
            "_view_module": "@jupyter-widgets/base",
            "_view_module_version": "1.2.0",
            "_view_name": "LayoutView",
            "align_content": null,
            "align_items": null,
            "align_self": null,
            "border": null,
            "bottom": null,
            "display": null,
            "flex": null,
            "flex_flow": null,
            "grid_area": null,
            "grid_auto_columns": null,
            "grid_auto_flow": null,
            "grid_auto_rows": null,
            "grid_column": null,
            "grid_gap": null,
            "grid_row": null,
            "grid_template_areas": null,
            "grid_template_columns": null,
            "grid_template_rows": null,
            "height": null,
            "justify_content": null,
            "justify_items": null,
            "left": null,
            "margin": null,
            "max_height": null,
            "max_width": null,
            "min_height": null,
            "min_width": null,
            "object_fit": null,
            "object_position": null,
            "order": null,
            "overflow": null,
            "overflow_x": null,
            "overflow_y": null,
            "padding": null,
            "right": null,
            "top": null,
            "visibility": null,
            "width": null
          }
        },
        "d04a28b787b34900b405ecf50b43189e": {
          "model_module": "@jupyter-widgets/controls",
          "model_name": "ProgressStyleModel",
          "model_module_version": "1.5.0",
          "state": {
            "_model_module": "@jupyter-widgets/controls",
            "_model_module_version": "1.5.0",
            "_model_name": "ProgressStyleModel",
            "_view_count": null,
            "_view_module": "@jupyter-widgets/base",
            "_view_module_version": "1.2.0",
            "_view_name": "StyleView",
            "bar_color": null,
            "description_width": ""
          }
        },
        "1377963fd3ff405ebcc3ed873878e084": {
          "model_module": "@jupyter-widgets/base",
          "model_name": "LayoutModel",
          "model_module_version": "1.2.0",
          "state": {
            "_model_module": "@jupyter-widgets/base",
            "_model_module_version": "1.2.0",
            "_model_name": "LayoutModel",
            "_view_count": null,
            "_view_module": "@jupyter-widgets/base",
            "_view_module_version": "1.2.0",
            "_view_name": "LayoutView",
            "align_content": null,
            "align_items": null,
            "align_self": null,
            "border": null,
            "bottom": null,
            "display": null,
            "flex": null,
            "flex_flow": null,
            "grid_area": null,
            "grid_auto_columns": null,
            "grid_auto_flow": null,
            "grid_auto_rows": null,
            "grid_column": null,
            "grid_gap": null,
            "grid_row": null,
            "grid_template_areas": null,
            "grid_template_columns": null,
            "grid_template_rows": null,
            "height": null,
            "justify_content": null,
            "justify_items": null,
            "left": null,
            "margin": null,
            "max_height": null,
            "max_width": null,
            "min_height": null,
            "min_width": null,
            "object_fit": null,
            "object_position": null,
            "order": null,
            "overflow": null,
            "overflow_x": null,
            "overflow_y": null,
            "padding": null,
            "right": null,
            "top": null,
            "visibility": null,
            "width": null
          }
        },
        "a06b361c01d245d883626890353b6abf": {
          "model_module": "@jupyter-widgets/controls",
          "model_name": "DescriptionStyleModel",
          "model_module_version": "1.5.0",
          "state": {
            "_model_module": "@jupyter-widgets/controls",
            "_model_module_version": "1.5.0",
            "_model_name": "DescriptionStyleModel",
            "_view_count": null,
            "_view_module": "@jupyter-widgets/base",
            "_view_module_version": "1.2.0",
            "_view_name": "StyleView",
            "description_width": ""
          }
        }
      }
    }
  },
  "cells": [
    {
      "cell_type": "markdown",
      "metadata": {
        "id": "view-in-github",
        "colab_type": "text"
      },
      "source": [
        "<a href=\"https://colab.research.google.com/github/Remon19/journey-into-ML/blob/main/cifar2.ipynb\" target=\"_parent\"><img src=\"https://colab.research.google.com/assets/colab-badge.svg\" alt=\"Open In Colab\"/></a>"
      ]
    },
    {
      "cell_type": "code",
      "execution_count": 1,
      "metadata": {
        "id": "bjcrtFdSbEQR"
      },
      "outputs": [],
      "source": [
        "import torch\n",
        "import numpy as np\n",
        "import torch.cuda as cuda\n",
        "import torch.nn as nn\n",
        "import torchvision.datasets as datasets\n",
        "import torchvision.transforms as transforms\n",
        "from torch.utils.data import DataLoader\n",
        "import torch.nn.functional as F\n",
        "import PIL as pil\n",
        "import matplotlib.pyplot as plt\n"
      ]
    },
    {
      "cell_type": "code",
      "source": [
        "data_path = \"/content/dataset/\"\n",
        "cifar10 = datasets.CIFAR10(data_path,train=True,download = True)\n",
        "cifar10_va = datasets.CIFAR10(data_path,train=False,download = True)"
      ],
      "metadata": {
        "colab": {
          "base_uri": "https://localhost:8080/",
          "height": 101,
          "referenced_widgets": [
            "01eba2d504604fd6a3ac7b82b5aa2c94",
            "ce9abed754194c9d8af9820ba0096320",
            "c96fce9041254a4791a537f293a0c4f1",
            "c785661d3799436a8997531247a41bef",
            "16d06ad4663245cb970169c722faee25",
            "62d558944e09419b941e83d85d3c6961",
            "5f1ceed0c2184498b5422339a2ada2bc",
            "f3d513644efd46f0b7985f7d3751bdfc",
            "d04a28b787b34900b405ecf50b43189e",
            "1377963fd3ff405ebcc3ed873878e084",
            "a06b361c01d245d883626890353b6abf"
          ]
        },
        "id": "G1CPhF7Qb6eK",
        "outputId": "0d31210e-26ba-433f-f9d7-eb2a5af2fdad"
      },
      "execution_count": 2,
      "outputs": [
        {
          "output_type": "stream",
          "name": "stdout",
          "text": [
            "Downloading https://www.cs.toronto.edu/~kriz/cifar-10-python.tar.gz to /content/dataset/cifar-10-python.tar.gz\n"
          ]
        },
        {
          "output_type": "display_data",
          "data": {
            "text/plain": [
              "  0%|          | 0/170498071 [00:00<?, ?it/s]"
            ],
            "application/vnd.jupyter.widget-view+json": {
              "version_major": 2,
              "version_minor": 0,
              "model_id": "01eba2d504604fd6a3ac7b82b5aa2c94"
            }
          },
          "metadata": {}
        },
        {
          "output_type": "stream",
          "name": "stdout",
          "text": [
            "Extracting /content/dataset/cifar-10-python.tar.gz to /content/dataset/\n",
            "Files already downloaded and verified\n"
          ]
        }
      ]
    },
    {
      "cell_type": "code",
      "source": [
        "print(len(cifar10),len(cifar10_va),sep = ' , ')"
      ],
      "metadata": {
        "id": "2mvq01x7fPKn",
        "outputId": "93024dda-7c5e-491b-eb0f-0ee6549b98a6",
        "colab": {
          "base_uri": "https://localhost:8080/"
        }
      },
      "execution_count": 3,
      "outputs": [
        {
          "output_type": "stream",
          "name": "stdout",
          "text": [
            "50000 , 10000\n"
          ]
        }
      ]
    },
    {
      "cell_type": "code",
      "source": [
        "img, label = cifar10[99]\n",
        "print(img, label, )"
      ],
      "metadata": {
        "colab": {
          "base_uri": "https://localhost:8080/"
        },
        "id": "nU0eWVSBghKO",
        "outputId": "cd71a9d2-2b31-4c85-e692-6e8be099f544"
      },
      "execution_count": 8,
      "outputs": [
        {
          "output_type": "stream",
          "name": "stdout",
          "text": [
            "<PIL.Image.Image image mode=RGB size=32x32 at 0x7F7668DC0790> 1\n"
          ]
        }
      ]
    },
    {
      "cell_type": "code",
      "source": [
        "% matplotlib inline \n",
        "plt.imshow(img)"
      ],
      "metadata": {
        "colab": {
          "base_uri": "https://localhost:8080/",
          "height": 283
        },
        "id": "HMTmDHr6hLwf",
        "outputId": "7e5e2e1b-ed52-4b81-f292-de10ba429248"
      },
      "execution_count": 9,
      "outputs": [
        {
          "output_type": "execute_result",
          "data": {
            "text/plain": [
              "<matplotlib.image.AxesImage at 0x7f7668e3e0d0>"
            ]
          },
          "metadata": {},
          "execution_count": 9
        },
        {
          "output_type": "display_data",
          "data": {
            "text/plain": [
              "<Figure size 432x288 with 1 Axes>"
            ],
            "image/png": "[encoded data removed]"
          },
          "metadata": {
            "needs_background": "light"
          }
        }
      ]
    },
    {
      "cell_type": "code",
      "source": [
        "to_tensor = transforms.ToTensor()\n",
        "img_t = to_tensor(img)\n",
        "img_t.shape"
      ],
      "metadata": {
        "colab": {
          "base_uri": "https://localhost:8080/"
        },
        "id": "rNuorPgzjiDy",
        "outputId": "3f2003c1-5ce3-405b-cfe1-bbc4d4199de1"
      },
      "execution_count": 10,
      "outputs": [
        {
          "output_type": "execute_result",
          "data": {
            "text/plain": [
              "torch.Size([3, 32, 32])"
            ]
          },
          "metadata": {},
          "execution_count": 10
        }
      ]
    },
    {
      "cell_type": "code",
      "source": [
        "cifar10_t = datasets.CIFAR10(data_path, train = True, transform= to_tensor,download = False)\n",
        "image_t, _ = cifar10_t[99]"
      ],
      "metadata": {
        "id": "u-NWWrSfkekC"
      },
      "execution_count": 11,
      "outputs": []
    },
    {
      "cell_type": "code",
      "source": [
        "type(image_t)"
      ],
      "metadata": {
        "colab": {
          "base_uri": "https://localhost:8080/"
        },
        "id": "PnCcDjJklW2C",
        "outputId": "f6180ec4-049a-4507-f9fc-cea3c4d90e52"
      },
      "execution_count": null,
      "outputs": [
        {
          "output_type": "execute_result",
          "data": {
            "text/plain": [
              "torch.Tensor"
            ]
          },
          "metadata": {},
          "execution_count": 22
        }
      ]
    },
    {
      "cell_type": "code",
      "source": [
        "image_t.shape , image_t.dtype"
      ],
      "metadata": {
        "colab": {
          "base_uri": "https://localhost:8080/"
        },
        "id": "S0-v2KJjlbvS",
        "outputId": "76f11a5b-963c-4804-eb25-9fd62faae79c"
      },
      "execution_count": 12,
      "outputs": [
        {
          "output_type": "execute_result",
          "data": {
            "text/plain": [
              "(torch.Size([3, 32, 32]), torch.float32)"
            ]
          },
          "metadata": {},
          "execution_count": 12
        }
      ]
    },
    {
      "cell_type": "code",
      "source": [
        "imgs = torch.stack([img_t for img_t, _ in cifar10_t], dim = 3)"
      ],
      "metadata": {
        "id": "y8j7uN0wlpxO"
      },
      "execution_count": 13,
      "outputs": []
    },
    {
      "cell_type": "code",
      "source": [
        "imgs.shape"
      ],
      "metadata": {
        "colab": {
          "base_uri": "https://localhost:8080/"
        },
        "id": "g2Zh3oCLni6S",
        "outputId": "413bf84d-02e3-4972-c076-de869e289536"
      },
      "execution_count": 14,
      "outputs": [
        {
          "output_type": "execute_result",
          "data": {
            "text/plain": [
              "torch.Size([3, 32, 32, 50000])"
            ]
          },
          "metadata": {},
          "execution_count": 14
        }
      ]
    },
    {
      "cell_type": "code",
      "source": [
        "ch_mean =imgs.view(3, -1).mean(dim =1)\n",
        "ch_stdev = imgs.view(3, -1).std(dim = 1)"
      ],
      "metadata": {
        "id": "h4EORR0wnnkz"
      },
      "execution_count": 15,
      "outputs": []
    },
    {
      "cell_type": "code",
      "source": [
        "ch_mean, ch_stdev"
      ],
      "metadata": {
        "colab": {
          "base_uri": "https://localhost:8080/"
        },
        "id": "nvPaW5Xao1BT",
        "outputId": "2ccfd4e1-b436-40e4-86e2-d1458a7a78fd"
      },
      "execution_count": 16,
      "outputs": [
        {
          "output_type": "execute_result",
          "data": {
            "text/plain": [
              "(tensor([0.4914, 0.4822, 0.4465]), tensor([0.2470, 0.2435, 0.2616]))"
            ]
          },
          "metadata": {},
          "execution_count": 16
        }
      ]
    },
    {
      "cell_type": "code",
      "source": [
        "from torchvision.transforms.transforms import ToTensor\n",
        "cifar10_t = datasets.CIFAR10(data_path, train = True, transform=transforms.Compose([transforms.ToTensor(),\n",
        "                                                                                    transforms.Normalize(ch_mean,ch_stdev)]),\n",
        "                             download = False)"
      ],
      "metadata": {
        "id": "BF24MHsBo9oy"
      },
      "execution_count": 17,
      "outputs": []
    },
    {
      "cell_type": "code",
      "source": [
        "cifar10_val = datasets.CIFAR10(data_path,train= False, download=False,\n",
        "                               transform=transforms.Compose([transforms.ToTensor(),\n",
        "                                                             transforms.Normalize(ch_mean,ch_stdev)]))"
      ],
      "metadata": {
        "id": "atHGAQgdsr8d"
      },
      "execution_count": 18,
      "outputs": []
    },
    {
      "cell_type": "code",
      "source": [
        "\n",
        "label_map= {0: 0, 2: 1}\n",
        "class_names = ['airplane','bird']\n",
        "cifar2 = [(img, label_map[label]) for \n",
        "           img, label in cifar10_t if label in [0, 2]]\n",
        "cifar2_val = [(img, label_map[label]) for\n",
        "              img, label in cifar10_val if label in [0, 2]]          "
      ],
      "metadata": {
        "id": "_-CVXBosqXpx"
      },
      "execution_count": 19,
      "outputs": []
    },
    {
      "cell_type": "code",
      "source": [
        "len(cifar2), len(cifar2_val)"
      ],
      "metadata": {
        "colab": {
          "base_uri": "https://localhost:8080/"
        },
        "id": "rZ3N3rNVueqN",
        "outputId": "a7f1943c-4145-4262-ed14-60dfbf6bcd81"
      },
      "execution_count": 20,
      "outputs": [
        {
          "output_type": "execute_result",
          "data": {
            "text/plain": [
              "(10000, 2000)"
            ]
          },
          "metadata": {},
          "execution_count": 20
        }
      ]
    },
    {
      "cell_type": "code",
      "source": [
        "from torch.nn.modules.activation import Tanh\n",
        "n_out = 2\n",
        "model = nn.Sequential(\n",
        "    nn.Linear(3072,1024),\n",
        "    nn.Tanh(),\n",
        "    nn.Linear(1024,512),\n",
        "    nn.Tanh(),\n",
        "    nn.Linear(512,128),\n",
        "    nn.Tanh(),\n",
        "    nn.Linear(128,n_out)\n",
        ")"
      ],
      "metadata": {
        "id": "kpu69WMOulGb"
      },
      "execution_count": null,
      "outputs": []
    },
    {
      "cell_type": "code",
      "source": [
        "from torch.nn.modules.pooling import MaxPool2d\n",
        "model2 =nn.Sequential(\n",
        "    nn.Conv2d(3,16,kernel_size=5,padding=1),\n",
        "    #nn.Dropout2d(p=0.4),\n",
        "    nn.ReLU(),\n",
        "    nn.MaxPool2d(2),\n",
        "    nn.Conv2d(16,8,kernel_size=5,padding=1),\n",
        "    #nn.Dropout2d(p=0.4),\n",
        "    nn.ReLU(),\n",
        "    nn.MaxPool2d(2),\n",
        "    #nn.Conv2d(8,8,kernel_size=3,padding=1)\n",
        "    nn.Flatten(1),\n",
        "    nn.Linear(8 *6 *6  , 32),\n",
        "    nn.ReLU(),\n",
        "    nn.Linear(32 , 2)\n",
        ")"
      ],
      "metadata": {
        "id": "Ddp2VvEgL7JG"
      },
      "execution_count": 101,
      "outputs": []
    },
    {
      "cell_type": "code",
      "source": [
        "loss_fn= nn.CrossEntropyLoss()\n",
        "learning_rate = 0.001\n",
        "optimizer = torch.optim.Adam(params=model2.parameters(),lr= learning_rate,weight_decay=.001,)\n",
        "epochs = 100"
      ],
      "metadata": {
        "id": "q4wV6qhS00EQ"
      },
      "execution_count": 109,
      "outputs": []
    },
    {
      "cell_type": "code",
      "source": [
        "train_loader = DataLoader(cifar2, batch_size = 64,\n",
        "                          shuffle = True)"
      ],
      "metadata": {
        "id": "b4bMPmII8o7-"
      },
      "execution_count": 110,
      "outputs": []
    },
    {
      "cell_type": "code",
      "source": [
        "for imgs,_ in train_loader:\n",
        "  print(imgs.shape)\n",
        "  break;"
      ],
      "metadata": {
        "id": "sUBJ7ix5RiLj",
        "outputId": "2e98b9d9-c38b-458c-9c72-3745f16aa176",
        "colab": {
          "base_uri": "https://localhost:8080/"
        }
      },
      "execution_count": 100,
      "outputs": [
        {
          "output_type": "stream",
          "name": "stdout",
          "text": [
            "torch.Size([64, 3, 32, 32])\n"
          ]
        }
      ]
    },
    {
      "cell_type": "code",
      "source": [
        "for epoch in range(epochs):\n",
        "  for imgs, labels in train_loader:\n",
        "    batch_size = imgs.shape[0]\n",
        "    outputs = model2(imgs)\n",
        "    loss = loss_fn(outputs,labels)\n",
        "\n",
        "    optimizer.zero_grad()\n",
        "    loss.backward()\n",
        "    optimizer.step()\n",
        "\n",
        "  print(f\"Epoch:{epoch} , Loss:{loss}\")\n"
      ],
      "metadata": {
        "colab": {
          "base_uri": "https://localhost:8080/"
        },
        "id": "Oa9ZdBB35aaL",
        "outputId": "ae856bf4-482e-483e-dc02-b437762a50e3"
      },
      "execution_count": 111,
      "outputs": [
        {
          "output_type": "stream",
          "name": "stdout",
          "text": [
            "Epoch:0 , Loss:0.2290736436843872\n",
            "Epoch:1 , Loss:0.05746883526444435\n",
            "Epoch:2 , Loss:0.23048272728919983\n",
            "Epoch:3 , Loss:0.09009259939193726\n",
            "Epoch:4 , Loss:0.12030556797981262\n",
            "Epoch:5 , Loss:0.15812581777572632\n",
            "Epoch:6 , Loss:0.3899303376674652\n",
            "Epoch:7 , Loss:0.18648941814899445\n",
            "Epoch:8 , Loss:0.026783796027302742\n",
            "Epoch:9 , Loss:0.06979406625032425\n",
            "Epoch:10 , Loss:0.2611156404018402\n",
            "Epoch:11 , Loss:0.15786512196063995\n",
            "Epoch:12 , Loss:0.22828136384487152\n",
            "Epoch:13 , Loss:0.11269145458936691\n",
            "Epoch:14 , Loss:0.2932978570461273\n",
            "Epoch:15 , Loss:0.04708544537425041\n",
            "Epoch:16 , Loss:0.40430188179016113\n",
            "Epoch:17 , Loss:0.06942829489707947\n",
            "Epoch:18 , Loss:0.2468673288822174\n",
            "Epoch:19 , Loss:0.022859986871480942\n",
            "Epoch:20 , Loss:0.08934526145458221\n",
            "Epoch:21 , Loss:0.06285246461629868\n",
            "Epoch:22 , Loss:0.17137064039707184\n",
            "Epoch:23 , Loss:0.041755374521017075\n",
            "Epoch:24 , Loss:0.04336339607834816\n",
            "Epoch:25 , Loss:0.06352914124727249\n",
            "Epoch:26 , Loss:0.014609429985284805\n",
            "Epoch:27 , Loss:0.05986256152391434\n",
            "Epoch:28 , Loss:0.013968171551823616\n",
            "Epoch:29 , Loss:0.012922189198434353\n",
            "Epoch:30 , Loss:0.033467281609773636\n",
            "Epoch:31 , Loss:0.05647467449307442\n",
            "Epoch:32 , Loss:0.14314818382263184\n",
            "Epoch:33 , Loss:0.01987721584737301\n",
            "Epoch:34 , Loss:0.0406138114631176\n",
            "Epoch:35 , Loss:0.02362171933054924\n",
            "Epoch:36 , Loss:0.01658070832490921\n",
            "Epoch:37 , Loss:0.003670614445582032\n",
            "Epoch:38 , Loss:0.0031621581874787807\n",
            "Epoch:39 , Loss:0.23227527737617493\n",
            "Epoch:40 , Loss:0.025941690430045128\n",
            "Epoch:41 , Loss:0.009688325226306915\n",
            "Epoch:42 , Loss:0.002886370988562703\n",
            "Epoch:43 , Loss:0.008125388994812965\n",
            "Epoch:44 , Loss:0.012986934743821621\n",
            "Epoch:45 , Loss:0.0016479582991451025\n",
            "Epoch:46 , Loss:0.01294689066708088\n",
            "Epoch:47 , Loss:0.0006407303153537214\n",
            "Epoch:48 , Loss:0.04994485154747963\n",
            "Epoch:49 , Loss:0.037946540862321854\n",
            "Epoch:50 , Loss:0.016030706465244293\n",
            "Epoch:51 , Loss:0.0625855028629303\n",
            "Epoch:52 , Loss:0.029848570004105568\n",
            "Epoch:53 , Loss:0.09235355257987976\n",
            "Epoch:54 , Loss:0.04777846485376358\n",
            "Epoch:55 , Loss:0.0005597071722149849\n",
            "Epoch:56 , Loss:0.0030136823188513517\n",
            "Epoch:57 , Loss:0.001334578264504671\n",
            "Epoch:58 , Loss:0.0006924063782207668\n",
            "Epoch:59 , Loss:0.002363183768466115\n",
            "Epoch:60 , Loss:0.0030646580271422863\n",
            "Epoch:61 , Loss:0.006332504563033581\n",
            "Epoch:62 , Loss:0.006642356514930725\n",
            "Epoch:63 , Loss:0.03408936411142349\n",
            "Epoch:64 , Loss:0.06427586823701859\n",
            "Epoch:65 , Loss:0.007569041568785906\n",
            "Epoch:66 , Loss:0.19280356168746948\n",
            "Epoch:67 , Loss:0.0003498522855807096\n",
            "Epoch:68 , Loss:0.011619110591709614\n",
            "Epoch:69 , Loss:0.03132595121860504\n",
            "Epoch:70 , Loss:0.04661976918578148\n",
            "Epoch:71 , Loss:0.003816247684881091\n",
            "Epoch:72 , Loss:0.004866919945925474\n",
            "Epoch:73 , Loss:0.0006938605802133679\n",
            "Epoch:74 , Loss:0.004160929471254349\n",
            "Epoch:75 , Loss:0.13167746365070343\n",
            "Epoch:76 , Loss:0.0828235000371933\n",
            "Epoch:77 , Loss:0.005686439108103514\n",
            "Epoch:78 , Loss:0.008303940296173096\n",
            "Epoch:79 , Loss:0.0030026016756892204\n",
            "Epoch:80 , Loss:0.0007018818287178874\n",
            "Epoch:81 , Loss:0.011513768695294857\n",
            "Epoch:82 , Loss:0.004299876280128956\n",
            "Epoch:83 , Loss:0.008480816148221493\n",
            "Epoch:84 , Loss:0.003157513216137886\n",
            "Epoch:85 , Loss:0.06578230857849121\n",
            "Epoch:86 , Loss:0.1282849907875061\n",
            "Epoch:87 , Loss:0.02630014903843403\n",
            "Epoch:88 , Loss:0.04997359216213226\n",
            "Epoch:89 , Loss:0.020801030099391937\n",
            "Epoch:90 , Loss:0.015739990398287773\n",
            "Epoch:91 , Loss:0.0020065356511622667\n",
            "Epoch:92 , Loss:0.005647679790854454\n",
            "Epoch:93 , Loss:0.006622156128287315\n",
            "Epoch:94 , Loss:0.006076104938983917\n",
            "Epoch:95 , Loss:0.01292362716048956\n",
            "Epoch:96 , Loss:0.002042739884927869\n",
            "Epoch:97 , Loss:0.03918805345892906\n",
            "Epoch:98 , Loss:0.02361367642879486\n",
            "Epoch:99 , Loss:0.002495833672583103\n"
          ]
        }
      ]
    },
    {
      "cell_type": "code",
      "source": [
        "train_loader = DataLoader(cifar2, batch_size = 64,\n",
        "                          shuffle = False)"
      ],
      "metadata": {
        "id": "T-PAAHEbh4Kf"
      },
      "execution_count": 112,
      "outputs": []
    },
    {
      "cell_type": "code",
      "source": [
        "correct = 0\n",
        "total = 0\n",
        "\n",
        "with torch.no_grad():\n",
        "  for imgs, labels in train_loader:\n",
        "    batch_size = imgs.shape[0]\n",
        "    outputs = model2(imgs.view([batch_size,3,32,32]))\n",
        "    _, predictions = torch.max(outputs,dim =1)\n",
        "    total += labels.shape[0]\n",
        "    correct += int((predictions == labels).sum())\n",
        "\n",
        "print(f\"Accuracy:{correct/total}\")"
      ],
      "metadata": {
        "id": "j4_n9szWT9IK",
        "outputId": "85e90a31-055a-4ac1-8c03-176202b04cf0",
        "colab": {
          "base_uri": "https://localhost:8080/"
        }
      },
      "execution_count": 113,
      "outputs": [
        {
          "output_type": "stream",
          "name": "stdout",
          "text": [
            "Accuracy:0.9995\n"
          ]
        }
      ]
    },
    {
      "cell_type": "code",
      "source": [
        "val_loader = DataLoader(cifar2_val, batch_size = 64, shuffle = False)"
      ],
      "metadata": {
        "id": "SeNZbSvEKRIZ"
      },
      "execution_count": 114,
      "outputs": []
    },
    {
      "cell_type": "code",
      "source": [
        "correct = 0\n",
        "total = 0\n",
        "\n",
        "with torch.no_grad():\n",
        "  for imgs, labels in val_loader:\n",
        "    batch_size = imgs.shape[0]\n",
        "    outputs = model2(imgs.view([batch_size,3, 32, 32]))\n",
        "    _, predictions = torch.max(outputs,dim =1)\n",
        "    total += labels.shape[0]\n",
        "    correct += int((predictions == labels).sum())\n",
        "\n",
        "print(f\"Accuracy:{correct/total}\")"
      ],
      "metadata": {
        "colab": {
          "base_uri": "https://localhost:8080/"
        },
        "id": "5ss4OyZpKRGe",
        "outputId": "a012a849-3b01-4678-b432-53fa9b3cbb64"
      },
      "execution_count": 115,
      "outputs": [
        {
          "output_type": "stream",
          "name": "stdout",
          "text": [
            "Accuracy:0.8945\n"
          ]
        }
      ]
    }
  ]
}