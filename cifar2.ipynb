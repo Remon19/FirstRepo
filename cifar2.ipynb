{
  "nbformat": 4,
  "nbformat_minor": 0,
  "metadata": {
    "colab": {
      "name": "Untitled1.ipynb",
      "provenance": [],
      "authorship_tag": "ABX9TyM58Yu1sbqRHJkL5yA3NCIZ",
      "include_colab_link": true
    },
    "kernelspec": {
      "name": "python3",
      "display_name": "Python 3"
    },
    "language_info": {
      "name": "python"
    },
    "accelerator": "GPU",
    "widgets": {
      "application/vnd.jupyter.widget-state+json": {
        "280600475f76423b92034204a6949ecb": {
          "model_module": "@jupyter-widgets/controls",
          "model_name": "HBoxModel",
          "model_module_version": "1.5.0",
          "state": {
            "_dom_classes": [],
            "_model_module": "@jupyter-widgets/controls",
            "_model_module_version": "1.5.0",
            "_model_name": "HBoxModel",
            "_view_count": null,
            "_view_module": "@jupyter-widgets/controls",
            "_view_module_version": "1.5.0",
            "_view_name": "HBoxView",
            "box_style": "",
            "children": [
              "IPY_MODEL_ae77344831064d6fac45d08aaa3b8b93",
              "IPY_MODEL_f3ba7c39877640d490d462ffdd5df130",
              "IPY_MODEL_dc5114825d744389bb9c3a919663370e"
            ],
            "layout": "IPY_MODEL_84979f2a3d2a4ebbb0ac036f7761dd83"
          }
        },
        "ae77344831064d6fac45d08aaa3b8b93": {
          "model_module": "@jupyter-widgets/controls",
          "model_name": "HTMLModel",
          "model_module_version": "1.5.0",
          "state": {
            "_dom_classes": [],
            "_model_module": "@jupyter-widgets/controls",
            "_model_module_version": "1.5.0",
            "_model_name": "HTMLModel",
            "_view_count": null,
            "_view_module": "@jupyter-widgets/controls",
            "_view_module_version": "1.5.0",
            "_view_name": "HTMLView",
            "description": "",
            "description_tooltip": null,
            "layout": "IPY_MODEL_8733b0850a364d429420b134a38d9ec4",
            "placeholder": "​",
            "style": "IPY_MODEL_ddde1d61d0364ccbba1c37616a9f3a51",
            "value": ""
          }
        },
        "f3ba7c39877640d490d462ffdd5df130": {
          "model_module": "@jupyter-widgets/controls",
          "model_name": "FloatProgressModel",
          "model_module_version": "1.5.0",
          "state": {
            "_dom_classes": [],
            "_model_module": "@jupyter-widgets/controls",
            "_model_module_version": "1.5.0",
            "_model_name": "FloatProgressModel",
            "_view_count": null,
            "_view_module": "@jupyter-widgets/controls",
            "_view_module_version": "1.5.0",
            "_view_name": "ProgressView",
            "bar_style": "success",
            "description": "",
            "description_tooltip": null,
            "layout": "IPY_MODEL_30710043f0b1439db84df9eefbe156b5",
            "max": 170498071,
            "min": 0,
            "orientation": "horizontal",
            "style": "IPY_MODEL_27ce266425fd430bbe2d7a3fda409d2a",
            "value": 170498071
          }
        },
        "dc5114825d744389bb9c3a919663370e": {
          "model_module": "@jupyter-widgets/controls",
          "model_name": "HTMLModel",
          "model_module_version": "1.5.0",
          "state": {
            "_dom_classes": [],
            "_model_module": "@jupyter-widgets/controls",
            "_model_module_version": "1.5.0",
            "_model_name": "HTMLModel",
            "_view_count": null,
            "_view_module": "@jupyter-widgets/controls",
            "_view_module_version": "1.5.0",
            "_view_name": "HTMLView",
            "description": "",
            "description_tooltip": null,
            "layout": "IPY_MODEL_a94127a2cf654596a7ddc94a69b68fe1",
            "placeholder": "​",
            "style": "IPY_MODEL_608228253a40427bb332e1eb3c924409",
            "value": " 170499072/? [00:13&lt;00:00, 14258916.99it/s]"
          }
        },
        "84979f2a3d2a4ebbb0ac036f7761dd83": {
          "model_module": "@jupyter-widgets/base",
          "model_name": "LayoutModel",
          "model_module_version": "1.2.0",
          "state": {
            "_model_module": "@jupyter-widgets/base",
            "_model_module_version": "1.2.0",
            "_model_name": "LayoutModel",
            "_view_count": null,
            "_view_module": "@jupyter-widgets/base",
            "_view_module_version": "1.2.0",
            "_view_name": "LayoutView",
            "align_content": null,
            "align_items": null,
            "align_self": null,
            "border": null,
            "bottom": null,
            "display": null,
            "flex": null,
            "flex_flow": null,
            "grid_area": null,
            "grid_auto_columns": null,
            "grid_auto_flow": null,
            "grid_auto_rows": null,
            "grid_column": null,
            "grid_gap": null,
            "grid_row": null,
            "grid_template_areas": null,
            "grid_template_columns": null,
            "grid_template_rows": null,
            "height": null,
            "justify_content": null,
            "justify_items": null,
            "left": null,
            "margin": null,
            "max_height": null,
            "max_width": null,
            "min_height": null,
            "min_width": null,
            "object_fit": null,
            "object_position": null,
            "order": null,
            "overflow": null,
            "overflow_x": null,
            "overflow_y": null,
            "padding": null,
            "right": null,
            "top": null,
            "visibility": null,
            "width": null
          }
        },
        "8733b0850a364d429420b134a38d9ec4": {
          "model_module": "@jupyter-widgets/base",
          "model_name": "LayoutModel",
          "model_module_version": "1.2.0",
          "state": {
            "_model_module": "@jupyter-widgets/base",
            "_model_module_version": "1.2.0",
            "_model_name": "LayoutModel",
            "_view_count": null,
            "_view_module": "@jupyter-widgets/base",
            "_view_module_version": "1.2.0",
            "_view_name": "LayoutView",
            "align_content": null,
            "align_items": null,
            "align_self": null,
            "border": null,
            "bottom": null,
            "display": null,
            "flex": null,
            "flex_flow": null,
            "grid_area": null,
            "grid_auto_columns": null,
            "grid_auto_flow": null,
            "grid_auto_rows": null,
            "grid_column": null,
            "grid_gap": null,
            "grid_row": null,
            "grid_template_areas": null,
            "grid_template_columns": null,
            "grid_template_rows": null,
            "height": null,
            "justify_content": null,
            "justify_items": null,
            "left": null,
            "margin": null,
            "max_height": null,
            "max_width": null,
            "min_height": null,
            "min_width": null,
            "object_fit": null,
            "object_position": null,
            "order": null,
            "overflow": null,
            "overflow_x": null,
            "overflow_y": null,
            "padding": null,
            "right": null,
            "top": null,
            "visibility": null,
            "width": null
          }
        },
        "ddde1d61d0364ccbba1c37616a9f3a51": {
          "model_module": "@jupyter-widgets/controls",
          "model_name": "DescriptionStyleModel",
          "model_module_version": "1.5.0",
          "state": {
            "_model_module": "@jupyter-widgets/controls",
            "_model_module_version": "1.5.0",
            "_model_name": "DescriptionStyleModel",
            "_view_count": null,
            "_view_module": "@jupyter-widgets/base",
            "_view_module_version": "1.2.0",
            "_view_name": "StyleView",
            "description_width": ""
          }
        },
        "30710043f0b1439db84df9eefbe156b5": {
          "model_module": "@jupyter-widgets/base",
          "model_name": "LayoutModel",
          "model_module_version": "1.2.0",
          "state": {
            "_model_module": "@jupyter-widgets/base",
            "_model_module_version": "1.2.0",
            "_model_name": "LayoutModel",
            "_view_count": null,
            "_view_module": "@jupyter-widgets/base",
            "_view_module_version": "1.2.0",
            "_view_name": "LayoutView",
            "align_content": null,
            "align_items": null,
            "align_self": null,
            "border": null,
            "bottom": null,
            "display": null,
            "flex": null,
            "flex_flow": null,
            "grid_area": null,
            "grid_auto_columns": null,
            "grid_auto_flow": null,
            "grid_auto_rows": null,
            "grid_column": null,
            "grid_gap": null,
            "grid_row": null,
            "grid_template_areas": null,
            "grid_template_columns": null,
            "grid_template_rows": null,
            "height": null,
            "justify_content": null,
            "justify_items": null,
            "left": null,
            "margin": null,
            "max_height": null,
            "max_width": null,
            "min_height": null,
            "min_width": null,
            "object_fit": null,
            "object_position": null,
            "order": null,
            "overflow": null,
            "overflow_x": null,
            "overflow_y": null,
            "padding": null,
            "right": null,
            "top": null,
            "visibility": null,
            "width": null
          }
        },
        "27ce266425fd430bbe2d7a3fda409d2a": {
          "model_module": "@jupyter-widgets/controls",
          "model_name": "ProgressStyleModel",
          "model_module_version": "1.5.0",
          "state": {
            "_model_module": "@jupyter-widgets/controls",
            "_model_module_version": "1.5.0",
            "_model_name": "ProgressStyleModel",
            "_view_count": null,
            "_view_module": "@jupyter-widgets/base",
            "_view_module_version": "1.2.0",
            "_view_name": "StyleView",
            "bar_color": null,
            "description_width": ""
          }
        },
        "a94127a2cf654596a7ddc94a69b68fe1": {
          "model_module": "@jupyter-widgets/base",
          "model_name": "LayoutModel",
          "model_module_version": "1.2.0",
          "state": {
            "_model_module": "@jupyter-widgets/base",
            "_model_module_version": "1.2.0",
            "_model_name": "LayoutModel",
            "_view_count": null,
            "_view_module": "@jupyter-widgets/base",
            "_view_module_version": "1.2.0",
            "_view_name": "LayoutView",
            "align_content": null,
            "align_items": null,
            "align_self": null,
            "border": null,
            "bottom": null,
            "display": null,
            "flex": null,
            "flex_flow": null,
            "grid_area": null,
            "grid_auto_columns": null,
            "grid_auto_flow": null,
            "grid_auto_rows": null,
            "grid_column": null,
            "grid_gap": null,
            "grid_row": null,
            "grid_template_areas": null,
            "grid_template_columns": null,
            "grid_template_rows": null,
            "height": null,
            "justify_content": null,
            "justify_items": null,
            "left": null,
            "margin": null,
            "max_height": null,
            "max_width": null,
            "min_height": null,
            "min_width": null,
            "object_fit": null,
            "object_position": null,
            "order": null,
            "overflow": null,
            "overflow_x": null,
            "overflow_y": null,
            "padding": null,
            "right": null,
            "top": null,
            "visibility": null,
            "width": null
          }
        },
        "608228253a40427bb332e1eb3c924409": {
          "model_module": "@jupyter-widgets/controls",
          "model_name": "DescriptionStyleModel",
          "model_module_version": "1.5.0",
          "state": {
            "_model_module": "@jupyter-widgets/controls",
            "_model_module_version": "1.5.0",
            "_model_name": "DescriptionStyleModel",
            "_view_count": null,
            "_view_module": "@jupyter-widgets/base",
            "_view_module_version": "1.2.0",
            "_view_name": "StyleView",
            "description_width": ""
          }
        }
      }
    }
  },
  "cells": [
    {
      "cell_type": "markdown",
      "metadata": {
        "id": "view-in-github",
        "colab_type": "text"
      },
      "source": [
        "<a href=\"https://colab.research.google.com/github/Remon19/journey-into-ML/blob/main/cifar2.ipynb\" target=\"_parent\"><img src=\"https://colab.research.google.com/assets/colab-badge.svg\" alt=\"Open In Colab\"/></a>"
      ]
    },
    {
      "cell_type": "code",
      "execution_count": 18,
      "metadata": {
        "id": "bjcrtFdSbEQR"
      },
      "outputs": [],
      "source": [
        "import torch\n",
        "import numpy as np\n",
        "import torch.cuda as cuda\n",
        "import torch.nn as nn\n",
        "import torchvision.datasets as datasets\n",
        "import torchvision.transforms as transforms\n",
        "from torch.utils.data import DataLoader\n",
        "import torch.nn.functional as F\n",
        "import PIL as pil\n",
        "import matplotlib.pyplot as plt\n"
      ]
    },
    {
      "cell_type": "code",
      "source": [
        "data_path = \"/content/dataset/\"\n",
        "cifar10 = datasets.CIFAR10(data_path,train=True,download = True)\n",
        "cifar10_va = datasets.CIFAR10(data_path,train=False,download = True)"
      ],
      "metadata": {
        "colab": {
          "base_uri": "https://localhost:8080/",
          "height": 101,
          "referenced_widgets": [
            "280600475f76423b92034204a6949ecb",
            "ae77344831064d6fac45d08aaa3b8b93",
            "f3ba7c39877640d490d462ffdd5df130",
            "dc5114825d744389bb9c3a919663370e",
            "84979f2a3d2a4ebbb0ac036f7761dd83",
            "8733b0850a364d429420b134a38d9ec4",
            "ddde1d61d0364ccbba1c37616a9f3a51",
            "30710043f0b1439db84df9eefbe156b5",
            "27ce266425fd430bbe2d7a3fda409d2a",
            "a94127a2cf654596a7ddc94a69b68fe1",
            "608228253a40427bb332e1eb3c924409"
          ]
        },
        "id": "G1CPhF7Qb6eK",
        "outputId": "9dc7f256-7b0f-486d-8c2e-190b4c22d1fa"
      },
      "execution_count": 6,
      "outputs": [
        {
          "output_type": "stream",
          "name": "stdout",
          "text": [
            "Downloading https://www.cs.toronto.edu/~kriz/cifar-10-python.tar.gz to /content/dataset/cifar-10-python.tar.gz\n"
          ]
        },
        {
          "output_type": "display_data",
          "data": {
            "text/plain": [
              "  0%|          | 0/170498071 [00:00<?, ?it/s]"
            ],
            "application/vnd.jupyter.widget-view+json": {
              "version_major": 2,
              "version_minor": 0,
              "model_id": "280600475f76423b92034204a6949ecb"
            }
          },
          "metadata": {}
        },
        {
          "output_type": "stream",
          "name": "stdout",
          "text": [
            "Extracting /content/dataset/cifar-10-python.tar.gz to /content/dataset/\n",
            "Files already downloaded and verified\n"
          ]
        }
      ]
    },
    {
      "cell_type": "code",
      "source": [
        "print(len(cifar10),len(cifar10_va),sep = ' , ')"
      ],
      "metadata": {
        "id": "2mvq01x7fPKn"
      },
      "execution_count": null,
      "outputs": []
    },
    {
      "cell_type": "code",
      "source": [
        "img, label = cifar10[99]\n",
        "print(img, label, )"
      ],
      "metadata": {
        "colab": {
          "base_uri": "https://localhost:8080/"
        },
        "id": "nU0eWVSBghKO",
        "outputId": "b5ec3a15-13af-4752-8b66-6c33881dd562"
      },
      "execution_count": 12,
      "outputs": [
        {
          "output_type": "stream",
          "name": "stdout",
          "text": [
            "<PIL.Image.Image image mode=RGB size=32x32 at 0x7F83E274B950> 1\n"
          ]
        }
      ]
    },
    {
      "cell_type": "code",
      "source": [
        "% matplotlib inline \n",
        "plt.imshow(img)"
      ],
      "metadata": {
        "colab": {
          "base_uri": "https://localhost:8080/",
          "height": 283
        },
        "id": "HMTmDHr6hLwf",
        "outputId": "bc693aba-8bda-4624-adfb-df9c58d9229a"
      },
      "execution_count": 19,
      "outputs": [
        {
          "output_type": "execute_result",
          "data": {
            "text/plain": [
              "<matplotlib.image.AxesImage at 0x7f83c95d7a50>"
            ]
          },
          "metadata": {},
          "execution_count": 19
        },
        {
          "output_type": "display_data",
          "data": {
            "text/plain": [
              "<Figure size 432x288 with 1 Axes>"
            ],
            "image/png": "[encoded data removed]"
          },
          "metadata": {
            "needs_background": "light"
          }
        }
      ]
    },
    {
      "cell_type": "code",
      "source": [
        "to_tensor = transforms.ToTensor()\n",
        "img_t = to_tensor(img)\n",
        "img_t.shape"
      ],
      "metadata": {
        "colab": {
          "base_uri": "https://localhost:8080/"
        },
        "id": "rNuorPgzjiDy",
        "outputId": "2f296c50-384b-41ae-a018-959708a6e988"
      },
      "execution_count": 20,
      "outputs": [
        {
          "output_type": "execute_result",
          "data": {
            "text/plain": [
              "torch.Size([3, 32, 32])"
            ]
          },
          "metadata": {},
          "execution_count": 20
        }
      ]
    },
    {
      "cell_type": "code",
      "source": [
        "cifar10_t = datasets.CIFAR10(data_path, train = True, transform= to_tensor,download = False)\n",
        "image_t, _ = cifar10_t[99]"
      ],
      "metadata": {
        "id": "u-NWWrSfkekC"
      },
      "execution_count": 21,
      "outputs": []
    },
    {
      "cell_type": "code",
      "source": [
        "type(image_t)"
      ],
      "metadata": {
        "colab": {
          "base_uri": "https://localhost:8080/"
        },
        "id": "PnCcDjJklW2C",
        "outputId": "f6180ec4-049a-4507-f9fc-cea3c4d90e52"
      },
      "execution_count": 22,
      "outputs": [
        {
          "output_type": "execute_result",
          "data": {
            "text/plain": [
              "torch.Tensor"
            ]
          },
          "metadata": {},
          "execution_count": 22
        }
      ]
    },
    {
      "cell_type": "code",
      "source": [
        "image_t.shape , image_t.dtype"
      ],
      "metadata": {
        "colab": {
          "base_uri": "https://localhost:8080/"
        },
        "id": "S0-v2KJjlbvS",
        "outputId": "1a9e8e24-931e-4683-a163-8b44fd073cf5"
      },
      "execution_count": 23,
      "outputs": [
        {
          "output_type": "execute_result",
          "data": {
            "text/plain": [
              "(torch.Size([3, 32, 32]), torch.float32)"
            ]
          },
          "metadata": {},
          "execution_count": 23
        }
      ]
    },
    {
      "cell_type": "code",
      "source": [
        "imgs = torch.stack([img_t for img_t, _ in cifar10_t], dim = 3)"
      ],
      "metadata": {
        "id": "y8j7uN0wlpxO"
      },
      "execution_count": 24,
      "outputs": []
    },
    {
      "cell_type": "code",
      "source": [
        "imgs.shape"
      ],
      "metadata": {
        "colab": {
          "base_uri": "https://localhost:8080/"
        },
        "id": "g2Zh3oCLni6S",
        "outputId": "7c4cedd1-83dd-48dc-bb9f-9329b6ac5a9f"
      },
      "execution_count": 25,
      "outputs": [
        {
          "output_type": "execute_result",
          "data": {
            "text/plain": [
              "torch.Size([3, 32, 32, 50000])"
            ]
          },
          "metadata": {},
          "execution_count": 25
        }
      ]
    },
    {
      "cell_type": "code",
      "source": [
        "ch_mean =imgs.view(3, -1).mean(dim =1)\n",
        "ch_stdev = imgs.view(3, -1).std(dim = 1)"
      ],
      "metadata": {
        "id": "h4EORR0wnnkz"
      },
      "execution_count": 27,
      "outputs": []
    },
    {
      "cell_type": "code",
      "source": [
        "ch_mean, ch_stdev"
      ],
      "metadata": {
        "colab": {
          "base_uri": "https://localhost:8080/"
        },
        "id": "nvPaW5Xao1BT",
        "outputId": "6c62e530-6ee9-40fc-abbb-57cf7e2e4fc4"
      },
      "execution_count": 28,
      "outputs": [
        {
          "output_type": "execute_result",
          "data": {
            "text/plain": [
              "(tensor([0.4914, 0.4822, 0.4465]), tensor([0.2470, 0.2435, 0.2616]))"
            ]
          },
          "metadata": {},
          "execution_count": 28
        }
      ]
    },
    {
      "cell_type": "code",
      "source": [
        "from torchvision.transforms.transforms import ToTensor\n",
        "cifar10_t = datasets.CIFAR10(data_path, train = True, transform=transforms.Compose([transforms.ToTensor(),\n",
        "                                                                                    transforms.Normalize(ch_mean,ch_stdev)]),\n",
        "                             download = False)"
      ],
      "metadata": {
        "id": "BF24MHsBo9oy"
      },
      "execution_count": 29,
      "outputs": []
    },
    {
      "cell_type": "code",
      "source": [
        "cifar10_val = datasets.CIFAR10(data_path,train= False, download=False,\n",
        "                               transform=transforms.Compose([transforms.ToTensor(),\n",
        "                                                             transforms.Normalize(ch_mean,ch_stdev)]))"
      ],
      "metadata": {
        "id": "atHGAQgdsr8d"
      },
      "execution_count": 30,
      "outputs": []
    },
    {
      "cell_type": "code",
      "source": [
        "\n",
        "label_map= {0: 0, 2: 1}\n",
        "class_names = ['airplane','bird']\n",
        "cifar2 = [(img, label_map[label]) for \n",
        "           img, label in cifar10_t if label in [0, 2]]\n",
        "cifar2_val = [(img, label_map[label]) for\n",
        "              img, label in cifar10_val if label in [0, 2]]          "
      ],
      "metadata": {
        "id": "_-CVXBosqXpx"
      },
      "execution_count": 33,
      "outputs": []
    },
    {
      "cell_type": "code",
      "source": [
        "len(cifar2), len(cifar2_val)"
      ],
      "metadata": {
        "colab": {
          "base_uri": "https://localhost:8080/"
        },
        "id": "rZ3N3rNVueqN",
        "outputId": "5a817aa2-7ea3-4755-98a2-3fb959444585"
      },
      "execution_count": 34,
      "outputs": [
        {
          "output_type": "execute_result",
          "data": {
            "text/plain": [
              "(10000, 2000)"
            ]
          },
          "metadata": {},
          "execution_count": 34
        }
      ]
    },
    {
      "cell_type": "code",
      "source": [
        "from torch.nn.modules.activation import Tanh\n",
        "n_out = 2\n",
        "model = nn.Sequential(\n",
        "    nn.Linear(3072,1024),\n",
        "    nn.Tanh(),\n",
        "    nn.Linear(1024,512),\n",
        "    nn.Tanh(),\n",
        "    nn.Linear(512,128),\n",
        "    nn.Tanh(),\n",
        "    nn.Linear(128,n_out)\n",
        ")"
      ],
      "metadata": {
        "id": "kpu69WMOulGb"
      },
      "execution_count": 60,
      "outputs": []
    },
    {
      "cell_type": "code",
      "source": [
        "loss_fn= nn.CrossEntropyLoss()\n",
        "learning_rate = 0.01\n",
        "optimizer = torch.optim.SGD(params=model.parameters(),lr= learning_rate)\n",
        "epochs = 100"
      ],
      "metadata": {
        "id": "q4wV6qhS00EQ"
      },
      "execution_count": 61,
      "outputs": []
    },
    {
      "cell_type": "code",
      "source": [
        "train_loader = DataLoader(cifar2, batch_size = 64,\n",
        "                          shuffle = True)"
      ],
      "metadata": {
        "id": "b4bMPmII8o7-"
      },
      "execution_count": 62,
      "outputs": []
    },
    {
      "cell_type": "code",
      "source": [
        "for epoch in range(epochs):\n",
        "  for imgs, labels in train_loader:\n",
        "    batch_size = imgs.shape[0]\n",
        "    outputs = model(imgs.view(batch_size,-1))\n",
        "    loss = loss_fn(outputs,labels)\n",
        "\n",
        "    optimizer.zero_grad()\n",
        "    loss.backward()\n",
        "    optimizer.step()\n",
        "\n",
        "  print(f\"Epoch:{epoch} , Loss:{loss}\")\n"
      ],
      "metadata": {
        "colab": {
          "base_uri": "https://localhost:8080/"
        },
        "id": "Oa9ZdBB35aaL",
        "outputId": "73211d7b-ca33-453b-acf1-55535c9e0101"
      },
      "execution_count": 63,
      "outputs": [
        {
          "output_type": "stream",
          "name": "stdout",
          "text": [
            "Epoch:0 , Loss:0.33032265305519104\n",
            "Epoch:1 , Loss:0.4928242564201355\n",
            "Epoch:2 , Loss:0.5067346096038818\n",
            "Epoch:3 , Loss:0.41548803448677063\n",
            "Epoch:4 , Loss:0.5529292821884155\n",
            "Epoch:5 , Loss:0.2657148838043213\n",
            "Epoch:6 , Loss:0.2926374077796936\n",
            "Epoch:7 , Loss:0.3827843964099884\n",
            "Epoch:8 , Loss:0.5227296352386475\n",
            "Epoch:9 , Loss:0.4564755856990814\n",
            "Epoch:10 , Loss:0.2710619270801544\n",
            "Epoch:11 , Loss:0.42933934926986694\n",
            "Epoch:12 , Loss:0.4174899458885193\n",
            "Epoch:13 , Loss:0.4906528890132904\n",
            "Epoch:14 , Loss:0.4066788852214813\n",
            "Epoch:15 , Loss:0.27618393301963806\n",
            "Epoch:16 , Loss:0.31264030933380127\n",
            "Epoch:17 , Loss:0.6754062175750732\n",
            "Epoch:18 , Loss:0.3258257210254669\n",
            "Epoch:19 , Loss:0.6469460129737854\n",
            "Epoch:20 , Loss:0.42166978120803833\n",
            "Epoch:21 , Loss:0.7276325225830078\n",
            "Epoch:22 , Loss:0.2698119580745697\n",
            "Epoch:23 , Loss:0.19324862957000732\n",
            "Epoch:24 , Loss:0.24201560020446777\n",
            "Epoch:25 , Loss:0.3878718316555023\n",
            "Epoch:26 , Loss:0.37763699889183044\n",
            "Epoch:27 , Loss:0.2722354829311371\n",
            "Epoch:28 , Loss:0.44272369146347046\n",
            "Epoch:29 , Loss:0.2690558433532715\n",
            "Epoch:30 , Loss:0.23350384831428528\n",
            "Epoch:31 , Loss:0.2919265627861023\n",
            "Epoch:32 , Loss:0.21935464441776276\n",
            "Epoch:33 , Loss:0.32027170062065125\n",
            "Epoch:34 , Loss:0.08491917699575424\n",
            "Epoch:35 , Loss:0.055589303374290466\n",
            "Epoch:36 , Loss:0.1525041162967682\n",
            "Epoch:37 , Loss:0.07731416821479797\n",
            "Epoch:38 , Loss:0.31619444489479065\n",
            "Epoch:39 , Loss:0.15173526108264923\n",
            "Epoch:40 , Loss:0.06508059054613113\n",
            "Epoch:41 , Loss:0.11549152433872223\n",
            "Epoch:42 , Loss:0.16267965734004974\n",
            "Epoch:43 , Loss:0.05384165793657303\n",
            "Epoch:44 , Loss:0.028207097202539444\n",
            "Epoch:45 , Loss:0.1525949388742447\n",
            "Epoch:46 , Loss:0.029974371194839478\n",
            "Epoch:47 , Loss:0.13008788228034973\n",
            "Epoch:48 , Loss:0.08029584586620331\n",
            "Epoch:49 , Loss:0.034837063401937485\n",
            "Epoch:50 , Loss:1.0003029108047485\n",
            "Epoch:51 , Loss:0.007606171071529388\n",
            "Epoch:52 , Loss:0.009862430393695831\n",
            "Epoch:53 , Loss:0.10786693543195724\n",
            "Epoch:54 , Loss:0.14201638102531433\n",
            "Epoch:55 , Loss:0.03280938044190407\n",
            "Epoch:56 , Loss:0.2255995124578476\n",
            "Epoch:57 , Loss:0.026883533224463463\n",
            "Epoch:58 , Loss:0.013708033598959446\n",
            "Epoch:59 , Loss:0.003969679586589336\n",
            "Epoch:60 , Loss:0.003416795050725341\n",
            "Epoch:61 , Loss:0.04265427961945534\n",
            "Epoch:62 , Loss:0.0798376128077507\n",
            "Epoch:63 , Loss:0.15568780899047852\n",
            "Epoch:64 , Loss:0.002606214489787817\n",
            "Epoch:65 , Loss:0.07031193375587463\n",
            "Epoch:66 , Loss:0.11441826820373535\n",
            "Epoch:67 , Loss:0.008025485090911388\n",
            "Epoch:68 , Loss:0.027813270688056946\n",
            "Epoch:69 , Loss:0.0067613092251122\n",
            "Epoch:70 , Loss:0.006152130197733641\n",
            "Epoch:71 , Loss:0.002891873475164175\n",
            "Epoch:72 , Loss:0.006651174742728472\n",
            "Epoch:73 , Loss:0.005634021479636431\n",
            "Epoch:74 , Loss:0.003131341189146042\n",
            "Epoch:75 , Loss:0.0005252817063592374\n",
            "Epoch:76 , Loss:0.0019485058728605509\n",
            "Epoch:77 , Loss:0.0043621729128062725\n",
            "Epoch:78 , Loss:0.002628600923344493\n",
            "Epoch:79 , Loss:0.0037611075676977634\n",
            "Epoch:80 , Loss:0.0058370474725961685\n",
            "Epoch:81 , Loss:0.004138496238738298\n",
            "Epoch:82 , Loss:0.0016387244686484337\n",
            "Epoch:83 , Loss:0.0008398556965403259\n",
            "Epoch:84 , Loss:0.013454392552375793\n",
            "Epoch:85 , Loss:0.0037739421240985394\n",
            "Epoch:86 , Loss:0.0005593771929852664\n",
            "Epoch:87 , Loss:0.000596291443798691\n",
            "Epoch:88 , Loss:0.001586797065101564\n",
            "Epoch:89 , Loss:0.0009254308533854783\n",
            "Epoch:90 , Loss:0.004554680548608303\n",
            "Epoch:91 , Loss:0.003463973291218281\n",
            "Epoch:92 , Loss:0.002594095654785633\n",
            "Epoch:93 , Loss:0.002479938790202141\n",
            "Epoch:94 , Loss:0.0019829063676297665\n",
            "Epoch:95 , Loss:0.003072774736210704\n",
            "Epoch:96 , Loss:0.05567196384072304\n",
            "Epoch:97 , Loss:0.00017026449495460838\n",
            "Epoch:98 , Loss:0.0007636795053258538\n",
            "Epoch:99 , Loss:0.00031590499565936625\n"
          ]
        }
      ]
    },
    {
      "cell_type": "code",
      "source": [
        "val_loader = DataLoader(cifar2_val, batch_size = 64, shuffle = False)"
      ],
      "metadata": {
        "id": "SeNZbSvEKRIZ"
      },
      "execution_count": 64,
      "outputs": []
    },
    {
      "cell_type": "code",
      "source": [
        "correct = 0\n",
        "total = 0\n",
        "\n",
        "with torch.no_grad():\n",
        "  for imgs, labels in val_loader:\n",
        "    batch_size = imgs.shape[0]\n",
        "    outputs = model(imgs.view(batch_size, -1))\n",
        "    _, predictions = torch.max(outputs,dim =1)\n",
        "    total += labels.shape[0]\n",
        "    correct += int((predictions == labels).sum())\n",
        "\n",
        "print(f\"Accuracy:{correct/total}\")"
      ],
      "metadata": {
        "colab": {
          "base_uri": "https://localhost:8080/"
        },
        "id": "5ss4OyZpKRGe",
        "outputId": "aab1ec24-b52e-4ed5-a64b-1630a5ab43d3"
      },
      "execution_count": 66,
      "outputs": [
        {
          "output_type": "stream",
          "name": "stdout",
          "text": [
            "Accuracy:0.811\n"
          ]
        }
      ]
    }
  ]
}