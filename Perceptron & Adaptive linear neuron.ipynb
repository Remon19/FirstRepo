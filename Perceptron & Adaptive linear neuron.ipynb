{
  "nbformat": 4,
  "nbformat_minor": 0,
  "metadata": {
    "colab": {
      "name": "Perceptron.ipynb",
      "provenance": [],
      "include_colab_link": true
    },
    "kernelspec": {
      "name": "python3",
      "display_name": "Python 3"
    },
    "language_info": {
      "name": "python"
    }
  },
  "cells": [
    {
      "cell_type": "markdown",
      "metadata": {
        "id": "view-in-github",
        "colab_type": "text"
      },
      "source": [
        "<a href=\"https://colab.research.google.com/github/Remon19/journey-into-ML/blob/main/Perceptron%20%26%20Adaptive%20linear%20neuron.ipynb\" target=\"_parent\"><img src=\"https://colab.research.google.com/assets/colab-badge.svg\" alt=\"Open In Colab\"/></a>"
      ]
    },
    {
      "cell_type": "code",
      "execution_count": 29,
      "metadata": {
        "id": "XICe3hP7y4TF"
      },
      "outputs": [],
      "source": [
        "import numpy as np\n",
        "class Perceptron():\n",
        "  \"\"\"perceptron classifier\n",
        "\n",
        "\n",
        "  Parameters\n",
        "  __________________________\n",
        "  eta : float\n",
        "    Learning rate (between 0.0 & 1.0)\n",
        "  n_iter : int\n",
        "    Number of epochs of training\n",
        "  random_state : int\n",
        "    Random number generator seed used for random weight initialzation.\n",
        "\n",
        "  Attributes\n",
        "  __________________________\n",
        "  w_ : 1d-array \n",
        "    Weights \n",
        "  b_ : scalar\n",
        "    Bias \n",
        "  errors_ : list\n",
        "    Number of missclassifications (updates) in each epoch.\n",
        "\n",
        "  \"\"\"\n",
        "  def __init__(self,eta,n_iter,random_state = 47):\n",
        "    self.eta = eta\n",
        "    self.n_iter = n_iter\n",
        "    self.random_state = random_state\n",
        "\n",
        "\n",
        "  def fit(self,X,Y):\n",
        "    \"\"\" Fitting training data\n",
        "    \n",
        "    Parameters\n",
        "    ___________________________\n",
        "    X : array-like, shape = [n_examples,n_features]\n",
        "      Training Vectors ,where n_examples is the nuber of training examples\n",
        "      and n_features is the number of features.\n",
        "    Y : array-like , shape = [n_examples]\n",
        "      Target values.\n",
        "\n",
        "\n",
        "    returns\n",
        "    ____________________________\n",
        "    self : object\n",
        "\n",
        "     \"\"\"\n",
        "    #rngen = np.random.RandomState(self.random_state)\n",
        "    self.w_ = np.random.normal(loc = 0.0, scale = 0.01, size = X.shape[1])\n",
        "    self.b_ = np.float_(0.)\n",
        "    self.errors_ = []\n",
        "\n",
        "    for _ in range(self.n_iter):\n",
        "      errors = 0 \n",
        "      for xi, target in zip(X,Y):\n",
        "        update = self.eta * (target - self.predict(xi))\n",
        "        self.w_ += update * xi\n",
        "        self.b_ += update\n",
        "        errors += int(update != 0.0)\n",
        "      self.errors_.append(errors)\n",
        "    return self\n",
        "\n",
        "  def predict(self, X):\n",
        "      return np.where(self.net_input(X) >= 0.0, 1, 0)\n",
        "\n",
        "  def net_input(self,x):\n",
        "    return np.dot(x,self.w_)+self.b_\n",
        "\n",
        "\n",
        "\n",
        "    \n"
      ]
    },
    {
      "cell_type": "code",
      "source": [
        "class AdalineGD:\n",
        "  \"\"\"Adaptive Linear Neuron\n",
        "  \n",
        "  Parameter\n",
        "  ____________________\n",
        "  eta: float \n",
        "    Learning rate between(0.0 & 1.0)\n",
        "  n_iter: int\n",
        "    Number of iterations (epochs)\n",
        "  shuffle : bool\n",
        "    shuffle training data each epoch if True to prevent\n",
        "    cycles\n",
        "  \n",
        "  random_state : int\n",
        "    Seed to initialize random number generator\n",
        "    \n",
        "    \n",
        "  Attributes\n",
        "  ____________________\n",
        "  w_ : 1d- array \n",
        "    Weights \n",
        "  b_ : scalar\n",
        "    Bias term\n",
        "  losses_ : list\n",
        "    Mean squred error in each epoch\n",
        "    \n",
        "    \n",
        "    \"\"\"\n",
        "  def __init__(self,eta=.01,n_iter=50,random_state=42,shuffle = True):\n",
        "    self.eta = eta\n",
        "    self.n_iter = n_iter\n",
        "    self.w_initialized = False\n",
        "    self.shuffle = shuffle\n",
        "    self.random_state = random_state\n",
        "  \n",
        "  def fit(self,X,y):\n",
        "    \"\"\"Fitting training data\n",
        "    \n",
        "    \n",
        "    Parameters\n",
        "    _______________\n",
        "    X : {array-like} shape = [n_examples,n_features] \n",
        "      Training vectors ,where n_examples is the number of\n",
        "      examples and n_features is the number of features.\n",
        "    y : {array-like} , shape = [n_examples]\n",
        "      Target values.\n",
        "\n",
        "    Returns\n",
        "    _______________\n",
        "    self : object\n",
        "\n",
        "    \"\"\"\n",
        "    self._initialize_weights(X.shape[1])\n",
        "    self.losses_ = []\n",
        "\n",
        "    for i in range(self.n_iter):\n",
        "      if self.shuffle :\n",
        "        X, y = self._shuffle(X, y)\n",
        "      losses = []\n",
        "      for xi, target in zip(X,y):\n",
        "        losses.append(self._update_weights(xi,target))\n",
        "      avg_loss = np.mean(losses)\n",
        "      self.losses_.append(avg_loss)\n",
        "    return self\n",
        "\n",
        "\n",
        "\n",
        "    def partial_fit(self,X,y):\n",
        "      \"\"\"Fitting training data without reinitializing the weights\"\"\"\n",
        "      if not self.w_initialized:\n",
        "        self._initialize_weights(X.shape[1])\n",
        "      if y.ravel().shape[0] > 1:\n",
        "        for xi , target in zip(X, y):\n",
        "          self._update_weights(xi,target)\n",
        "      else:\n",
        "        self._update_weights(X,y)\n",
        "      return self\n",
        "\n",
        "    def _shuffle(self, X, y):\n",
        "      r = self.rgen.permutations(len(y))\n",
        "      return X[r], y[r]\n",
        "\n",
        "\n",
        "    def _initialize_weights(self,m):\n",
        "      self.rgen = np.random.RandomState(self.random_state)\n",
        "      self.w_ = self.rgen.normal(loc = 0.0, scale =0.01, \n",
        "                           size = m)\n",
        "      self.b_ = np.float(0.0)\n",
        "      self.w_initialized = True\n",
        "\n",
        "    def _update_weights(self, xi, target):\n",
        "      net_input = self.net_input(xi)\n",
        "      output = self.activation(net_input)\n",
        "      error = target - output\n",
        "      self.w_ += self.eta * 2.0 * error * xi\n",
        "      self.b_ += self.eta * 2.0 * error\n",
        "      loss = errors**2\n",
        "      return loss\n",
        "\n",
        "    def net_input(self,X):\n",
        "      \"\"\" Calculate net input\"\"\"\n",
        "      return np.dot(X,self.w_)+self.b_\n",
        "\n",
        "    def activation(self,X):\n",
        "      \"\"\" Calculate activation\"\"\"\n",
        "      return X\n",
        "\n",
        "    def predict(self,X):\n",
        "     \"\"\" Predicting the output\"\"\"\n",
        "     return np.where((self.activation(self.net_input(X)))>= 0.5,1,0)\n",
        "\n",
        "\n"
      ],
      "metadata": {
        "id": "ILSVcUpW1qfQ"
      },
      "execution_count": 69,
      "outputs": []
    },
    {
      "cell_type": "code",
      "source": [
        "import os\n",
        "import pandas as pd\n",
        "s = 'https://archive.ics.uci.edu/ml/'\\\n",
        " 'machine-learning-databases/iris/iris.data'\n",
        "\n",
        "print('From URL:', s)\n",
        "\n",
        "df = pd.read_csv(s,header = None , encoding= 'UTF-8')\n",
        "df.head()"
      ],
      "metadata": {
        "colab": {
          "base_uri": "https://localhost:8080/",
          "height": 224
        },
        "id": "3PCglVyfAxp3",
        "outputId": "215e0902-0676-40f4-dd00-aeb87c3c4fbd"
      },
      "execution_count": 31,
      "outputs": [
        {
          "output_type": "stream",
          "name": "stdout",
          "text": [
            "From URL: https://archive.ics.uci.edu/ml/machine-learning-databases/iris/iris.data\n"
          ]
        },
        {
          "output_type": "execute_result",
          "data": {
            "text/plain": [
              "     0    1    2    3            4\n",
              "0  5.1  3.5  1.4  0.2  Iris-setosa\n",
              "1  4.9  3.0  1.4  0.2  Iris-setosa\n",
              "2  4.7  3.2  1.3  0.2  Iris-setosa\n",
              "3  4.6  3.1  1.5  0.2  Iris-setosa\n",
              "4  5.0  3.6  1.4  0.2  Iris-setosa"
            ],
            "text/html": [
              "\n",
              "  <div id=\"df-a4a2e9d7-cc58-401e-bc25-58c7bf7fec8c\">\n",
              "    <div class=\"colab-df-container\">\n",
              "      <div>\n",
              "<style scoped>\n",
              "    .dataframe tbody tr th:only-of-type {\n",
              "        vertical-align: middle;\n",
              "    }\n",
              "\n",
              "    .dataframe tbody tr th {\n",
              "        vertical-align: top;\n",
              "    }\n",
              "\n",
              "    .dataframe thead th {\n",
              "        text-align: right;\n",
              "    }\n",
              "</style>\n",
              "<table border=\"1\" class=\"dataframe\">\n",
              "  <thead>\n",
              "    <tr style=\"text-align: right;\">\n",
              "      <th></th>\n",
              "      <th>0</th>\n",
              "      <th>1</th>\n",
              "      <th>2</th>\n",
              "      <th>3</th>\n",
              "      <th>4</th>\n",
              "    </tr>\n",
              "  </thead>\n",
              "  <tbody>\n",
              "    <tr>\n",
              "      <th>0</th>\n",
              "      <td>5.1</td>\n",
              "      <td>3.5</td>\n",
              "      <td>1.4</td>\n",
              "      <td>0.2</td>\n",
              "      <td>Iris-setosa</td>\n",
              "    </tr>\n",
              "    <tr>\n",
              "      <th>1</th>\n",
              "      <td>4.9</td>\n",
              "      <td>3.0</td>\n",
              "      <td>1.4</td>\n",
              "      <td>0.2</td>\n",
              "      <td>Iris-setosa</td>\n",
              "    </tr>\n",
              "    <tr>\n",
              "      <th>2</th>\n",
              "      <td>4.7</td>\n",
              "      <td>3.2</td>\n",
              "      <td>1.3</td>\n",
              "      <td>0.2</td>\n",
              "      <td>Iris-setosa</td>\n",
              "    </tr>\n",
              "    <tr>\n",
              "      <th>3</th>\n",
              "      <td>4.6</td>\n",
              "      <td>3.1</td>\n",
              "      <td>1.5</td>\n",
              "      <td>0.2</td>\n",
              "      <td>Iris-setosa</td>\n",
              "    </tr>\n",
              "    <tr>\n",
              "      <th>4</th>\n",
              "      <td>5.0</td>\n",
              "      <td>3.6</td>\n",
              "      <td>1.4</td>\n",
              "      <td>0.2</td>\n",
              "      <td>Iris-setosa</td>\n",
              "    </tr>\n",
              "  </tbody>\n",
              "</table>\n",
              "</div>\n",
              "      <button class=\"colab-df-convert\" onclick=\"convertToInteractive('df-a4a2e9d7-cc58-401e-bc25-58c7bf7fec8c')\"\n",
              "              title=\"Convert this dataframe to an interactive table.\"\n",
              "              style=\"display:none;\">\n",
              "        \n",
              "  <svg xmlns=\"http://www.w3.org/2000/svg\" height=\"24px\"viewBox=\"0 0 24 24\"\n",
              "       width=\"24px\">\n",
              "    <path d=\"M0 0h24v24H0V0z\" fill=\"none\"/>\n",
              "    <path d=\"M18.56 5.44l.94 2.06.94-2.06 2.06-.94-2.06-.94-.94-2.06-.94 2.06-2.06.94zm-11 1L8.5 8.5l.94-2.06 2.06-.94-2.06-.94L8.5 2.5l-.94 2.06-2.06.94zm10 10l.94 2.06.94-2.06 2.06-.94-2.06-.94-.94-2.06-.94 2.06-2.06.94z\"/><path d=\"M17.41 7.96l-1.37-1.37c-.4-.4-.92-.59-1.43-.59-.52 0-1.04.2-1.43.59L10.3 9.45l-7.72 7.72c-.78.78-.78 2.05 0 2.83L4 21.41c.39.39.9.59 1.41.59.51 0 1.02-.2 1.41-.59l7.78-7.78 2.81-2.81c.8-.78.8-2.07 0-2.86zM5.41 20L4 18.59l7.72-7.72 1.47 1.35L5.41 20z\"/>\n",
              "  </svg>\n",
              "      </button>\n",
              "      \n",
              "  <style>\n",
              "    .colab-df-container {\n",
              "      display:flex;\n",
              "      flex-wrap:wrap;\n",
              "      gap: 12px;\n",
              "    }\n",
              "\n",
              "    .colab-df-convert {\n",
              "      background-color: #E8F0FE;\n",
              "      border: none;\n",
              "      border-radius: 50%;\n",
              "      cursor: pointer;\n",
              "      display: none;\n",
              "      fill: #1967D2;\n",
              "      height: 32px;\n",
              "      padding: 0 0 0 0;\n",
              "      width: 32px;\n",
              "    }\n",
              "\n",
              "    .colab-df-convert:hover {\n",
              "      background-color: #E2EBFA;\n",
              "      box-shadow: 0px 1px 2px rgba(60, 64, 67, 0.3), 0px 1px 3px 1px rgba(60, 64, 67, 0.15);\n",
              "      fill: #174EA6;\n",
              "    }\n",
              "\n",
              "    [theme=dark] .colab-df-convert {\n",
              "      background-color: #3B4455;\n",
              "      fill: #D2E3FC;\n",
              "    }\n",
              "\n",
              "    [theme=dark] .colab-df-convert:hover {\n",
              "      background-color: #434B5C;\n",
              "      box-shadow: 0px 1px 3px 1px rgba(0, 0, 0, 0.15);\n",
              "      filter: drop-shadow(0px 1px 2px rgba(0, 0, 0, 0.3));\n",
              "      fill: #FFFFFF;\n",
              "    }\n",
              "  </style>\n",
              "\n",
              "      <script>\n",
              "        const buttonEl =\n",
              "          document.querySelector('#df-a4a2e9d7-cc58-401e-bc25-58c7bf7fec8c button.colab-df-convert');\n",
              "        buttonEl.style.display =\n",
              "          google.colab.kernel.accessAllowed ? 'block' : 'none';\n",
              "\n",
              "        async function convertToInteractive(key) {\n",
              "          const element = document.querySelector('#df-a4a2e9d7-cc58-401e-bc25-58c7bf7fec8c');\n",
              "          const dataTable =\n",
              "            await google.colab.kernel.invokeFunction('convertToInteractive',\n",
              "                                                     [key], {});\n",
              "          if (!dataTable) return;\n",
              "\n",
              "          const docLinkHtml = 'Like what you see? Visit the ' +\n",
              "            '<a target=\"_blank\" href=https://colab.research.google.com/notebooks/data_table.ipynb>data table notebook</a>'\n",
              "            + ' to learn more about interactive tables.';\n",
              "          element.innerHTML = '';\n",
              "          dataTable['output_type'] = 'display_data';\n",
              "          await google.colab.output.renderOutput(dataTable, element);\n",
              "          const docLink = document.createElement('div');\n",
              "          docLink.innerHTML = docLinkHtml;\n",
              "          element.appendChild(docLink);\n",
              "        }\n",
              "      </script>\n",
              "    </div>\n",
              "  </div>\n",
              "  "
            ]
          },
          "metadata": {},
          "execution_count": 31
        }
      ]
    },
    {
      "cell_type": "code",
      "source": [
        "from pandas.errors import InvalidIndexError\n",
        "import matplotlib.pyplot as plt\n",
        "%matplotlib inline \n"
      ],
      "metadata": {
        "id": "i17nWYB-CHsL"
      },
      "execution_count": 32,
      "outputs": []
    },
    {
      "cell_type": "code",
      "source": [
        "y = df.iloc[0:100, 4].values\n",
        "y = np.where(y == 'Iris-setosa', 0, 1)\n",
        "x = df.iloc[0:100,[0, 2]].values\n",
        "\n",
        "plt.scatter(x[:50,0],x[:50,1],color = 'red', marker ='o', label = 'Setosa' )\n",
        "plt.scatter(x[50:,0],x[50:,1],color = 'blue', marker ='x', label = 'Versicolor' )\n",
        "plt.xlabel('Sepal Length [cm]')\n",
        "plt.ylabel('Petal Length [cm]')\n",
        "plt.legend(loc = 'upper left')\n",
        "plt.show()"
      ],
      "metadata": {
        "colab": {
          "base_uri": "https://localhost:8080/",
          "height": 279
        },
        "id": "fguts4VUCedU",
        "outputId": "2ed62e5e-0d5c-4082-b97e-47442bc4f2be"
      },
      "execution_count": 33,
      "outputs": [
        {
          "output_type": "display_data",
          "data": {
            "text/plain": [
              "<Figure size 432x288 with 1 Axes>"
            ],
            "image/png": "[encoded data removed]"
          },
          "metadata": {
            "needs_background": "light"
          }
        }
      ]
    },
    {
      "cell_type": "code",
      "source": [
        "pp = Perceptron(eta = 0.1,n_iter = 20)\n",
        "pp.fit(x,y)\n",
        "plt.plot(range(1, len(pp.errors_)+1),pp.errors_, marker = 'x')\n",
        "plt.xlabel('Epochs')\n",
        "plt.ylabel('Number of updates')\n",
        "plt.show()"
      ],
      "metadata": {
        "colab": {
          "base_uri": "https://localhost:8080/",
          "height": 279
        },
        "id": "p5yteSjpFsi3",
        "outputId": "07f73918-6836-40bd-cbbf-4ca02fe65885"
      },
      "execution_count": 34,
      "outputs": [
        {
          "output_type": "display_data",
          "data": {
            "text/plain": [
              "<Figure size 432x288 with 1 Axes>"
            ],
            "image/png": "[encoded data removed]"
          },
          "metadata": {
            "needs_background": "light"
          }
        }
      ]
    },
    {
      "cell_type": "code",
      "source": [
        "from matplotlib.colors import ListedColormap\n",
        "def plot_decision_regions(X, Y, Classifier, resolution = 0.02):\n",
        "  markers = ('o','s','x','v','#')\n",
        "  colors = ('red','blue','green','gray','cyan')\n",
        "  cmap = ListedColormap(colors[:len(np.unique(Y))])\n",
        "\n",
        "\n",
        "  x1_min , x1_max = X[:, 0].min() -1 , X[:, 0].max() + 1\n",
        "  x2_min , x2_max = X[:, 1].min() -1 , X[:, 1].max() + 1\n",
        "\n",
        "  xx1 , xx2 = np.meshgrid(np.arange(x1_min, x1_max, resolution),\n",
        "                          np.arange(x2_min, x2_max, resolution))\n",
        "  \n",
        "  lab = Classifier.predict(np.array([xx1.ravel(), xx2.ravel()]).T)\n",
        "  lab = lab.reshape(xx1.shape)\n",
        "\n",
        "  plt.contourf(xx1, xx2, lab, alpha = 0.3, cmap = cmap)\n",
        "  plt.xlim(xx1.min(), xx1.max())\n",
        "  plt.ylim(xx2.min(), xx2.max())\n",
        "\n",
        "  for idx, cl in enumerate(np.unique(Y)):\n",
        "    plt.scatter(x = X[Y == cl, 0], y = X[Y == cl, 1],\n",
        "                alpha = 0.8,\n",
        "                c = colors[idx],\n",
        "                marker = markers[idx],\n",
        "                label = f'Class {cl}',\n",
        "                edgecolors= 'black'\n",
        "                )\n",
        "\n",
        "\n"
      ],
      "metadata": {
        "id": "cNTzwq2dgF9G"
      },
      "execution_count": 35,
      "outputs": []
    },
    {
      "cell_type": "code",
      "source": [
        "plot_decision_regions(x,y,Classifier = pp)\n",
        "plt.xlabel('Sepal length [cm]')\n",
        "plt.ylabel('Petal length [cm]')\n",
        "plt.legend(loc = 'upper left')\n",
        "plt.show()"
      ],
      "metadata": {
        "colab": {
          "base_uri": "https://localhost:8080/",
          "height": 280
        },
        "id": "PAtCx5kcpvD2",
        "outputId": "cfc084bf-f7ce-4ecf-b4e7-f2c9f085828b"
      },
      "execution_count": 36,
      "outputs": [
        {
          "output_type": "display_data",
          "data": {
            "text/plain": [
              "<Figure size 432x288 with 1 Axes>"
            ],
            "image/png": "[encoded data removed]"
          },
          "metadata": {
            "needs_background": "light"
          }
        }
      ]
    },
    {
      "cell_type": "code",
      "source": [
        "fig, ax = plt.subplots(nrows = 1, ncols= 2, figsize= (10,4))\n",
        "ada1 = AdalineGD(n_iter = 15, eta = 0.1).fit(x,y)\n",
        "ax[0].plot(range(1, len(ada1.losses_) +1 ), \n",
        "          np.log10(ada1.losses_), marker = 'o')\n",
        "ax[0].set_xlabel('Epochs')\n",
        "ax[0].set_ylabel('log(Mean squared error)')\n",
        "ax[0].set_title('Adaline - learning rate = 0.1')\n",
        "ada2 = AdalineGD(n_iter = 15, eta = 0.0001).fit(x,y)\n",
        "ax[1].plot(range(1, len(ada2.losses_) +1 ), \n",
        "         ada2.losses_, marker = 'o')\n",
        "ax[1].set_xlabel('Epochs')\n",
        "ax[1].set_ylabel('log(Mean squared error)')\n",
        "ax[1].set_title('Adaline - learning rate = 0.0001')\n",
        "plt.show()\n"
      ],
      "metadata": {
        "id": "gYkSrZMTP78N",
        "outputId": "fc647f82-00d9-414a-da71-648271cef678",
        "colab": {
          "base_uri": "https://localhost:8080/",
          "height": 386
        }
      },
      "execution_count": 50,
      "outputs": [
        {
          "output_type": "stream",
          "name": "stderr",
          "text": [
            "/usr/local/lib/python3.7/dist-packages/ipykernel_launcher.py:50: DeprecationWarning: `np.float` is a deprecated alias for the builtin `float`. To silence this warning, use `float` by itself. Doing this will not modify any behavior and is safe. If you specifically wanted the numpy scalar type, use `np.float64` here.\n",
            "Deprecated in NumPy 1.20; for more details and guidance: https://numpy.org/devdocs/release/1.20.0-notes.html#deprecations\n",
            "/usr/local/lib/python3.7/dist-packages/ipykernel_launcher.py:50: DeprecationWarning: `np.float` is a deprecated alias for the builtin `float`. To silence this warning, use `float` by itself. Doing this will not modify any behavior and is safe. If you specifically wanted the numpy scalar type, use `np.float64` here.\n",
            "Deprecated in NumPy 1.20; for more details and guidance: https://numpy.org/devdocs/release/1.20.0-notes.html#deprecations\n"
          ]
        },
        {
          "output_type": "display_data",
          "data": {
            "text/plain": [
              "<Figure size 720x288 with 2 Axes>"
            ],
            "image/png": "[encoded data removed]"
          },
          "metadata": {
            "needs_background": "light"
          }
        }
      ]
    },
    {
      "cell_type": "code",
      "source": [
        "# try feature standardaization\n",
        "x_std = np.copy(x)\n",
        "x_std[:,0] = (x_std[:,0] - x[:,0].mean()) / x[:,0].std()\n",
        "x_std[:,1] = (x_std[:,1] - x[:,1].mean()) / x[:,1].std()\n",
        "\n"
      ],
      "metadata": {
        "id": "SOBVa4i9T0VB"
      },
      "execution_count": 51,
      "outputs": []
    },
    {
      "cell_type": "code",
      "source": [
        "ada3 = AdalineGD(n_iter = 20, eta = 0.5)\n",
        "ada3.fit(x_std,y)\n",
        "plot_decision_regions(x_std,y,ada3)\n",
        "plt.figure()\n",
        "plt.plot(range(1,len(ada3.losses_)+1),\n",
        "        ada3.losses_, marker = 'o'  )\n",
        "\n",
        "plt.xlabel('Epochs')\n",
        "plt.ylabel('Mean squared error')\n",
        "plt.title('Adaline - learning rate = 0.5')\n"
      ],
      "metadata": {
        "id": "H-_bbPgqUy-Z",
        "outputId": "b3b89a5a-8eb9-4867-8fb4-ff83278df962",
        "colab": {
          "base_uri": "https://localhost:8080/",
          "height": 366
        }
      },
      "execution_count": 68,
      "outputs": [
        {
          "output_type": "error",
          "ename": "AttributeError",
          "evalue": "ignored",
          "traceback": [
            "\u001b[0;31m---------------------------------------------------------------------------\u001b[0m",
            "\u001b[0;31mAttributeError\u001b[0m                            Traceback (most recent call last)",
            "\u001b[0;32m<ipython-input-68-2b537e61b909>\u001b[0m in \u001b[0;36m<module>\u001b[0;34m()\u001b[0m\n\u001b[1;32m      1\u001b[0m \u001b[0mada3\u001b[0m \u001b[0;34m=\u001b[0m \u001b[0mAdalineGD\u001b[0m\u001b[0;34m(\u001b[0m\u001b[0mn_iter\u001b[0m \u001b[0;34m=\u001b[0m \u001b[0;36m20\u001b[0m\u001b[0;34m,\u001b[0m \u001b[0meta\u001b[0m \u001b[0;34m=\u001b[0m \u001b[0;36m0.5\u001b[0m\u001b[0;34m)\u001b[0m\u001b[0;34m\u001b[0m\u001b[0;34m\u001b[0m\u001b[0m\n\u001b[0;32m----> 2\u001b[0;31m \u001b[0mada3\u001b[0m\u001b[0;34m.\u001b[0m\u001b[0mfit\u001b[0m\u001b[0;34m(\u001b[0m\u001b[0mx_std\u001b[0m\u001b[0;34m,\u001b[0m\u001b[0my\u001b[0m\u001b[0;34m)\u001b[0m\u001b[0;34m\u001b[0m\u001b[0;34m\u001b[0m\u001b[0m\n\u001b[0m\u001b[1;32m      3\u001b[0m \u001b[0mplot_decision_regions\u001b[0m\u001b[0;34m(\u001b[0m\u001b[0mx_std\u001b[0m\u001b[0;34m,\u001b[0m\u001b[0my\u001b[0m\u001b[0;34m,\u001b[0m\u001b[0mada3\u001b[0m\u001b[0;34m)\u001b[0m\u001b[0;34m\u001b[0m\u001b[0;34m\u001b[0m\u001b[0m\n\u001b[1;32m      4\u001b[0m \u001b[0mplt\u001b[0m\u001b[0;34m.\u001b[0m\u001b[0mfigure\u001b[0m\u001b[0;34m(\u001b[0m\u001b[0;34m)\u001b[0m\u001b[0;34m\u001b[0m\u001b[0;34m\u001b[0m\u001b[0m\n\u001b[1;32m      5\u001b[0m plt.plot(range(1,len(ada3.losses_)+1),\n",
            "\u001b[0;32m<ipython-input-66-3801420fd3fa>\u001b[0m in \u001b[0;36mfit\u001b[0;34m(self, X, y)\u001b[0m\n\u001b[1;32m     51\u001b[0m \u001b[0;34m\u001b[0m\u001b[0m\n\u001b[1;32m     52\u001b[0m     \"\"\"\n\u001b[0;32m---> 53\u001b[0;31m     \u001b[0mself\u001b[0m\u001b[0;34m.\u001b[0m\u001b[0m_initialize_weights\u001b[0m\u001b[0;34m(\u001b[0m\u001b[0mX\u001b[0m\u001b[0;34m.\u001b[0m\u001b[0mshape\u001b[0m\u001b[0;34m[\u001b[0m\u001b[0;36m1\u001b[0m\u001b[0;34m]\u001b[0m\u001b[0;34m)\u001b[0m\u001b[0;34m\u001b[0m\u001b[0;34m\u001b[0m\u001b[0m\n\u001b[0m\u001b[1;32m     54\u001b[0m     \u001b[0mself\u001b[0m\u001b[0;34m.\u001b[0m\u001b[0mlosses_\u001b[0m \u001b[0;34m=\u001b[0m \u001b[0;34m[\u001b[0m\u001b[0;34m]\u001b[0m\u001b[0;34m\u001b[0m\u001b[0;34m\u001b[0m\u001b[0m\n\u001b[1;32m     55\u001b[0m \u001b[0;34m\u001b[0m\u001b[0m\n",
            "\u001b[0;31mAttributeError\u001b[0m: 'AdalineGD' object has no attribute '_initialize_weights'"
          ]
        }
      ]
    },
    {
      "cell_type": "code",
      "source": [
        "ada_sgd = AdalineGD(n_iter = 15, eta = 0.01)\n",
        "ada_sgd.fit(x,y)\n",
        "plot_decision_regions(x_std,y,ada_sgd)\n",
        "plt.title('Adaline - Stochastic graient descent')\n",
        "plt.xlabel('Sepal length [cm]')\n",
        "plt.ylabel('Petal length [cm]')\n",
        "plt.legend(loc = 'upper left')\n",
        "plt.figure()\n",
        "plt.plot(range(1,len(ada_sgd.losses_)+1),\n",
        "        ada_sgd.losses_, marker = 'o'  )\n",
        "\n",
        "plt.xlabel('Epochs')\n",
        "plt.ylabel('Average loss')\n",
        "plt.show()"
      ],
      "metadata": {
        "id": "dvFx3YuxcVHw",
        "outputId": "e35c1e91-cb6c-4785-d5d0-5228497a49fc",
        "colab": {
          "base_uri": "https://localhost:8080/",
          "height": 366
        }
      },
      "execution_count": 72,
      "outputs": [
        {
          "output_type": "error",
          "ename": "AttributeError",
          "evalue": "ignored",
          "traceback": [
            "\u001b[0;31m---------------------------------------------------------------------------\u001b[0m",
            "\u001b[0;31mAttributeError\u001b[0m                            Traceback (most recent call last)",
            "\u001b[0;32m<ipython-input-72-f1faafc4c6eb>\u001b[0m in \u001b[0;36m<module>\u001b[0;34m()\u001b[0m\n\u001b[1;32m      1\u001b[0m \u001b[0mada_sgd\u001b[0m \u001b[0;34m=\u001b[0m \u001b[0mAdalineGD\u001b[0m\u001b[0;34m(\u001b[0m\u001b[0mn_iter\u001b[0m \u001b[0;34m=\u001b[0m \u001b[0;36m15\u001b[0m\u001b[0;34m,\u001b[0m \u001b[0meta\u001b[0m \u001b[0;34m=\u001b[0m \u001b[0;36m0.01\u001b[0m\u001b[0;34m)\u001b[0m\u001b[0;34m\u001b[0m\u001b[0;34m\u001b[0m\u001b[0m\n\u001b[0;32m----> 2\u001b[0;31m \u001b[0mada_sgd\u001b[0m\u001b[0;34m.\u001b[0m\u001b[0mfit\u001b[0m\u001b[0;34m(\u001b[0m\u001b[0mx\u001b[0m\u001b[0;34m,\u001b[0m\u001b[0my\u001b[0m\u001b[0;34m)\u001b[0m\u001b[0;34m\u001b[0m\u001b[0;34m\u001b[0m\u001b[0m\n\u001b[0m\u001b[1;32m      3\u001b[0m \u001b[0mplot_decision_regions\u001b[0m\u001b[0;34m(\u001b[0m\u001b[0mx_std\u001b[0m\u001b[0;34m,\u001b[0m\u001b[0my\u001b[0m\u001b[0;34m,\u001b[0m\u001b[0mada_sgd\u001b[0m\u001b[0;34m)\u001b[0m\u001b[0;34m\u001b[0m\u001b[0;34m\u001b[0m\u001b[0m\n\u001b[1;32m      4\u001b[0m \u001b[0mplt\u001b[0m\u001b[0;34m.\u001b[0m\u001b[0mtitle\u001b[0m\u001b[0;34m(\u001b[0m\u001b[0;34m'Adaline - Stochastic graient descent'\u001b[0m\u001b[0;34m)\u001b[0m\u001b[0;34m\u001b[0m\u001b[0;34m\u001b[0m\u001b[0m\n\u001b[1;32m      5\u001b[0m \u001b[0mplt\u001b[0m\u001b[0;34m.\u001b[0m\u001b[0mxlabel\u001b[0m\u001b[0;34m(\u001b[0m\u001b[0;34m'Sepal length [cm]'\u001b[0m\u001b[0;34m)\u001b[0m\u001b[0;34m\u001b[0m\u001b[0;34m\u001b[0m\u001b[0m\n",
            "\u001b[0;32m<ipython-input-69-e9eb9bb6f685>\u001b[0m in \u001b[0;36mfit\u001b[0;34m(self, X, y)\u001b[0m\n\u001b[1;32m     51\u001b[0m \u001b[0;34m\u001b[0m\u001b[0m\n\u001b[1;32m     52\u001b[0m     \"\"\"\n\u001b[0;32m---> 53\u001b[0;31m     \u001b[0mself\u001b[0m\u001b[0;34m.\u001b[0m\u001b[0m_initialize_weights\u001b[0m\u001b[0;34m(\u001b[0m\u001b[0mX\u001b[0m\u001b[0;34m.\u001b[0m\u001b[0mshape\u001b[0m\u001b[0;34m[\u001b[0m\u001b[0;36m1\u001b[0m\u001b[0;34m]\u001b[0m\u001b[0;34m)\u001b[0m\u001b[0;34m\u001b[0m\u001b[0;34m\u001b[0m\u001b[0m\n\u001b[0m\u001b[1;32m     54\u001b[0m     \u001b[0mself\u001b[0m\u001b[0;34m.\u001b[0m\u001b[0mlosses_\u001b[0m \u001b[0;34m=\u001b[0m \u001b[0;34m[\u001b[0m\u001b[0;34m]\u001b[0m\u001b[0;34m\u001b[0m\u001b[0;34m\u001b[0m\u001b[0m\n\u001b[1;32m     55\u001b[0m \u001b[0;34m\u001b[0m\u001b[0m\n",
            "\u001b[0;31mAttributeError\u001b[0m: 'AdalineGD' object has no attribute '_initialize_weights'"
          ]
        }
      ]
    },
    {
      "cell_type": "code",
      "source": [
        ""
      ],
      "metadata": {
        "id": "cHLo_FI6ms7a"
      },
      "execution_count": null,
      "outputs": []
    }
  ]
}